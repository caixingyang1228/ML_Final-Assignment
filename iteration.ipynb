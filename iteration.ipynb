{
 "cells": [
  {
   "cell_type": "markdown",
   "metadata": {},
   "source": [
    "# Toxic comments\n",
    "\n",
    "This notebook takes you though a complete iteration of Machine Learning Assignment 1 - Toxic comments. The assignment details (including links to download the data) can be found [here](https://docs.google.com/document/d/1WGYw99e5q6j5V0Zrf2HveagU6URt_kVvdR8B9HYQ99E/edit?usp=sharing). "
   ]
  },
  {
   "cell_type": "code",
   "execution_count": 147,
   "metadata": {},
   "outputs": [],
   "source": [
    "# all imports and magic commands\n",
    "import numpy as np\n",
    "import pandas as pd\n",
    "import matplotlib.pyplot as plt\n",
    "from my_measures import BinaryClassificationPerformance\n",
    "from sklearn.feature_extraction.text import HashingVectorizer\n",
    "from sklearn.feature_extraction.text import TfidfTransformer\n",
    "from scipy.sparse import csr_matrix, hstack\n",
    "from sklearn.preprocessing import StandardScaler\n",
    "from sklearn.model_selection import train_test_split\n",
    "%matplotlib inline"
   ]
  },
  {
   "cell_type": "markdown",
   "metadata": {},
   "source": [
    "### IMPORTANT!!! Make sure you are using `BinaryClassificationPerformance` v1.02"
   ]
  },
  {
   "cell_type": "code",
   "execution_count": 148,
   "metadata": {},
   "outputs": [
    {
     "name": "stdout",
     "output_type": "stream",
     "text": [
      "Help on class BinaryClassificationPerformance in module my_measures:\n",
      "\n",
      "class BinaryClassificationPerformance(builtins.object)\n",
      " |  BinaryClassificationPerformance(predictions, labels, desc, probabilities=None)\n",
      " |  \n",
      " |  Performance measures to evaluate the fit of a binary classification model, v1.03\n",
      " |  \n",
      " |  Methods defined here:\n",
      " |  \n",
      " |  __init__(self, predictions, labels, desc, probabilities=None)\n",
      " |      Initialize attributes: predictions-vector of predicted values for Y, labels-vector of labels for Y\n",
      " |  \n",
      " |  compute_measures(self)\n",
      " |      Compute performance measures defined by Flach p. 57\n",
      " |  \n",
      " |  img_indices(self)\n",
      " |      Get the indices of true and false positives to be able to locate the corresponding images in a list of image names\n",
      " |  \n",
      " |  ----------------------------------------------------------------------\n",
      " |  Data descriptors defined here:\n",
      " |  \n",
      " |  __dict__\n",
      " |      dictionary for instance variables (if defined)\n",
      " |  \n",
      " |  __weakref__\n",
      " |      list of weak references to the object (if defined)\n",
      "\n"
     ]
    }
   ],
   "source": [
    "help(BinaryClassificationPerformance)"
   ]
  },
  {
   "cell_type": "markdown",
   "metadata": {},
   "source": [
    "# Iteration 1 -- baseline"
   ]
  },
  {
   "cell_type": "markdown",
   "metadata": {},
   "source": [
    "In this first iteration, we build the function for feature building and extraction on natural language data."
   ]
  },
  {
   "cell_type": "code",
   "execution_count": 149,
   "metadata": {},
   "outputs": [],
   "source": [
    "# function that takes raw data and completes all preprocessing required before model fits\n",
    "def process_raw_data(fn, my_random_seed, test=False):\n",
    "    # read and summarize data\n",
    "    toxic_data = pd.read_csv(fn)\n",
    "    if (not test):\n",
    "        # add an indicator for any toxic, severe toxic, obscene, threat, insult, or indentity hate\n",
    "        toxic_data['any_toxic'] = (toxic_data['toxic'] + toxic_data['severe_toxic'] + toxic_data['obscene'] + toxic_data['threat'] + toxic_data['insult'] + toxic_data['identity_hate'] > 0)\n",
    "    print(\"toxic_data is:\", type(toxic_data))\n",
    "    print(\"toxic_data has\", toxic_data.shape[0], \"rows and\", toxic_data.shape[1], \"columns\", \"\\n\")\n",
    "    print(\"the data types for each of the columns in toxic_data:\")\n",
    "    print(toxic_data.dtypes, \"\\n\")\n",
    "    print(\"the first 10 rows in toxic_data:\")\n",
    "    print(toxic_data.head(5))\n",
    "    if (not test):\n",
    "        print(\"The rate of 'toxic' Wikipedia comments in the dataset: \")\n",
    "        print(toxic_data['any_toxic'].mean())\n",
    "\n",
    "        \n",
    "        \n",
    "    # vectorize Bag of Words from review text; as sparse matrix\n",
    "    if (not test): # fit_transform()\n",
    "        hv = HashingVectorizer(n_features=2 ** 17, alternate_sign=False)\n",
    "        X_hv = hv.fit_transform(toxic_data.comment_text)\n",
    "        fitted_transformations.append(hv)\n",
    "        print(\"Shape of HashingVectorizer X:\")\n",
    "        print(X_hv.shape)\n",
    "    else: # transform() \n",
    "        X_hv = fitted_transformations[0].transform(toxic_data.comment_text)\n",
    "        print(\"Shape of HashingVectorizer X:\")\n",
    "        print(X_hv.shape)\n",
    "    \n",
    "    # http://scikit-learn.org/stable/modules/generated/sklearn.feature_extraction.text.TfidfTransformer.html\n",
    "    if (not test):\n",
    "        transformer = TfidfTransformer()\n",
    "        X_tfidf = transformer.fit_transform(X_hv)\n",
    "        fitted_transformations.append(transformer)\n",
    "    else:\n",
    "        X_tfidf = fitted_transformations[1].transform(X_hv)\n",
    "    \n",
    "    # create additional quantitative features\n",
    "    # features from Amazon.csv to add to feature set\n",
    "    toxic_data['word_count'] = toxic_data['comment_text'].str.split(' ').str.len()\n",
    "    toxic_data['punc_count'] = toxic_data['comment_text'].str.count(\"\\.\")\n",
    "    toxic_data['myfeature'] =  toxic_data['comment_text'].str.split(' ').str.len() * toxic_data['comment_text'].str.count(\"\\.\");\n",
    "    X_quant_features = toxic_data[[\"word_count\", \"punc_count\",\"myfeature\"]]\n",
    "    print(\"Look at a few rows of the new quantitative features: \")\n",
    "    print(X_quant_features.head(10))\n",
    "    \n",
    "    # Combine all quantitative features into a single sparse matrix\n",
    "    X_quant_features_csr = csr_matrix(X_quant_features)\n",
    "    X_combined = hstack([X_tfidf, X_quant_features_csr])\n",
    "    X_matrix = csr_matrix(X_combined) # convert to sparse matrix\n",
    "    print(\"Size of combined bag of words and new quantitative variables matrix:\")\n",
    "    print(X_matrix.shape)\n",
    "    \n",
    "    # Create `X`, scaled matrix of features\n",
    "    # feature scaling\n",
    "    if (not test):\n",
    "        sc = StandardScaler(with_mean=False)\n",
    "        X = sc.fit_transform(X_matrix)\n",
    "        fitted_transformations.append(sc)\n",
    "        print(X.shape)\n",
    "        y = toxic_data['any_toxic']\n",
    "    else:\n",
    "        X = fitted_transformations[2].transform(X_matrix)\n",
    "        print(X.shape)\n",
    "    \n",
    "    # Create Training and Test Sets\n",
    "    # enter an integer for the random_state parameter; any integer will work\n",
    "    if (test):\n",
    "        X_submission_test = X\n",
    "        print(\"Shape of X_test for submission:\")\n",
    "        print(X_submission_test.shape)\n",
    "        print('SUCCESS!')\n",
    "        return(toxic_data, X_submission_test)\n",
    "    else: \n",
    "        X_train, X_test, y_train, y_test, X_raw_train, X_raw_test = train_test_split(X, y, toxic_data, test_size=0.2, random_state=my_random_seed)\n",
    "        print(\"Shape of X_train and X_test:\")\n",
    "        print(X_train.shape)\n",
    "        print(X_test.shape)\n",
    "        print(\"Shape of y_train and y_test:\")\n",
    "        print(y_train.shape)\n",
    "        print(y_test.shape)\n",
    "        print(\"Shape of X_raw_train and X_raw_test:\")\n",
    "        print(X_raw_train.shape)\n",
    "        print(X_raw_test.shape)\n",
    "        print('SUCCESS!')\n",
    "        return(X_train, X_test, y_train, y_test, X_raw_train, X_raw_test)"
   ]
  },
  {
   "cell_type": "markdown",
   "metadata": {},
   "source": [
    "### Create training and test sets from function"
   ]
  },
  {
   "cell_type": "code",
   "execution_count": 150,
   "metadata": {},
   "outputs": [
    {
     "name": "stdout",
     "output_type": "stream",
     "text": [
      "toxic_data is: <class 'pandas.core.frame.DataFrame'>\n",
      "toxic_data has 159571 rows and 9 columns \n",
      "\n",
      "the data types for each of the columns in toxic_data:\n",
      "id               object\n",
      "comment_text     object\n",
      "toxic             int64\n",
      "severe_toxic      int64\n",
      "obscene           int64\n",
      "threat            int64\n",
      "insult            int64\n",
      "identity_hate     int64\n",
      "any_toxic          bool\n",
      "dtype: object \n",
      "\n",
      "the first 10 rows in toxic_data:\n",
      "                 id                                       comment_text  toxic  \\\n",
      "0  0000997932d777bf  Explanation\\nWhy the edits made under my usern...      0   \n",
      "1  000103f0d9cfb60f  D'aww! He matches this background colour I'm s...      0   \n",
      "2  000113f07ec002fd  Hey man, I'm really not trying to edit war. It...      0   \n",
      "3  0001b41b1c6bb37e  \"\\nMore\\nI can't make any real suggestions on ...      0   \n",
      "4  0001d958c54c6e35  You, sir, are my hero. Any chance you remember...      0   \n",
      "\n",
      "   severe_toxic  obscene  threat  insult  identity_hate  any_toxic  \n",
      "0             0        0       0       0              0      False  \n",
      "1             0        0       0       0              0      False  \n",
      "2             0        0       0       0              0      False  \n",
      "3             0        0       0       0              0      False  \n",
      "4             0        0       0       0              0      False  \n",
      "The rate of 'toxic' Wikipedia comments in the dataset: \n",
      "0.10167887648758234\n",
      "Shape of HashingVectorizer X:\n",
      "(159571, 131072)\n",
      "Look at a few rows of the new quantitative features: \n",
      "   word_count  punc_count  myfeature\n",
      "0          42           5        210\n",
      "1          18           2         36\n",
      "2          42           3        126\n",
      "3         112           3        336\n",
      "4          13           1         13\n",
      "5          12           1         12\n",
      "6           8           0          0\n",
      "7          21           2         42\n",
      "8          83           7        581\n",
      "9          12           0          0\n",
      "Size of combined bag of words and new quantitative variables matrix:\n",
      "(159571, 131075)\n",
      "(159571, 131075)\n",
      "Shape of X_train and X_test:\n",
      "(127656, 131075)\n",
      "(31915, 131075)\n",
      "Shape of y_train and y_test:\n",
      "(127656,)\n",
      "(31915,)\n",
      "Shape of X_raw_train and X_raw_test:\n",
      "(127656, 12)\n",
      "(31915, 12)\n",
      "SUCCESS!\n",
      "Number of fits stored in `fitted_transformations` list: \n",
      "3\n"
     ]
    }
   ],
   "source": [
    "# create an empty list to store any use of fit_transform() to transform() later\n",
    "# it is a global list to store model and feature extraction fits\n",
    "fitted_transformations = []\n",
    "\n",
    "# CHANGE FILE PATH and my_random_seed number (any integer other than 74 will do): \n",
    "X_train, X_test, y_train, y_test, X_raw_train, X_raw_test = process_raw_data(fn='toxiccomments_train.csv', my_random_seed=12345)\n",
    "\n",
    "print(\"Number of fits stored in `fitted_transformations` list: \")\n",
    "print(len(fitted_transformations))"
   ]
  },
  {
   "cell_type": "markdown",
   "metadata": {},
   "source": [
    "### Fit (and tune) Various Models on both Training and Test dataset"
   ]
  },
  {
   "cell_type": "markdown",
   "metadata": {},
   "source": [
    "##### MODEL: ordinary least squares"
   ]
  },
  {
   "cell_type": "code",
   "execution_count": 151,
   "metadata": {},
   "outputs": [
    {
     "name": "stdout",
     "output_type": "stream",
     "text": [
      "training set: {'Pos': 12986, 'Neg': 114670, 'TP': 6454, 'TN': 56308, 'FP': 58362, 'FN': 6532, 'Accuracy': 0.4916494328507865, 'Precision': 0.09957417921500863, 'Recall': 0.49699676574772833, 'desc': 'ols_train'} \n",
      "\n",
      "test set: {'Pos': 3239, 'Neg': 28676, 'TP': 1613, 'TN': 14108, 'FP': 14568, 'FN': 1626, 'Accuracy': 0.4925896913676954, 'Precision': 0.09968481552438045, 'Recall': 0.4979932077801791, 'desc': 'ols_test'}\n"
     ]
    }
   ],
   "source": [
    "from sklearn import linear_model\n",
    "ols = linear_model.SGDClassifier(loss=\"squared_loss\")\n",
    "ols.fit(X_train, y_train)\n",
    "\n",
    "ols_performance_train = BinaryClassificationPerformance(ols.predict(X_train), y_train, 'ols_train')\n",
    "ols_performance_train.compute_measures()\n",
    "print(\"training set:\", ols_performance_train.performance_measures, \"\\n\")\n",
    "\n",
    "ols_performance_test = BinaryClassificationPerformance(ols.predict(X_test), y_test, 'ols_test')\n",
    "ols_performance_test.compute_measures()\n",
    "print(\"test set:\",ols_performance_test.performance_measures)"
   ]
  },
  {
   "cell_type": "markdown",
   "metadata": {},
   "source": [
    "##### MODEL: SVM, linear"
   ]
  },
  {
   "cell_type": "code",
   "execution_count": 152,
   "metadata": {},
   "outputs": [
    {
     "name": "stdout",
     "output_type": "stream",
     "text": [
      "training set: {'Pos': 12986, 'Neg': 114670, 'TP': 12912, 'TN': 114586, 'FP': 84, 'FN': 74, 'Accuracy': 0.9987622986776963, 'Precision': 0.9935364727608494, 'Recall': 0.9943015555213307, 'desc': 'svm_train'} \n",
      "\n",
      "test set: {'Pos': 3239, 'Neg': 28676, 'TP': 2053, 'TN': 27137, 'FP': 1539, 'FN': 1186, 'Accuracy': 0.9146169512768291, 'Precision': 0.5715478841870824, 'Recall': 0.6338376041988268, 'desc': 'svm_test'}\n"
     ]
    }
   ],
   "source": [
    "from sklearn import linear_model\n",
    "svm = linear_model.SGDClassifier()\n",
    "svm.fit(X_train, y_train)\n",
    "\n",
    "svm_performance_train = BinaryClassificationPerformance(svm.predict(X_train), y_train, 'svm_train')\n",
    "svm_performance_train.compute_measures()\n",
    "print(\"training set:\", svm_performance_train.performance_measures, \"\\n\")\n",
    "\n",
    "svm_performance_test = BinaryClassificationPerformance(svm.predict(X_test), y_test, 'svm_test')\n",
    "svm_performance_test.compute_measures()\n",
    "print(\"test set:\",svm_performance_test.performance_measures)"
   ]
  },
  {
   "cell_type": "markdown",
   "metadata": {},
   "source": [
    "##### MODEL: logistic regression"
   ]
  },
  {
   "cell_type": "code",
   "execution_count": 153,
   "metadata": {},
   "outputs": [
    {
     "name": "stdout",
     "output_type": "stream",
     "text": [
      "training set: {'Pos': 12986, 'Neg': 114670, 'TP': 12919, 'TN': 114612, 'FP': 58, 'FN': 67, 'Accuracy': 0.9990208059158989, 'Precision': 0.995530554057178, 'Recall': 0.9948405975666101, 'desc': 'lgs_train'} \n",
      "\n",
      "test set: {'Pos': 3239, 'Neg': 28676, 'TP': 2068, 'TN': 27141, 'FP': 1535, 'FN': 1171, 'Accuracy': 0.9152122826257246, 'Precision': 0.5739661393283375, 'Recall': 0.6384686631676443, 'desc': 'lgs_test'}\n"
     ]
    }
   ],
   "source": [
    "from sklearn import linear_model\n",
    "lgs = linear_model.SGDClassifier(loss='log')\n",
    "lgs.fit(X_train, y_train)\n",
    "\n",
    "lgs_performance_train = BinaryClassificationPerformance(lgs.predict(X_train), y_train, 'lgs_train')\n",
    "lgs_performance_train.compute_measures()\n",
    "print(\"training set:\", lgs_performance_train.performance_measures, \"\\n\")\n",
    "\n",
    "lgs_performance_test = BinaryClassificationPerformance(lgs.predict(X_test), y_test, 'lgs_test')\n",
    "lgs_performance_test.compute_measures()\n",
    "print(\"test set:\",lgs_performance_test.performance_measures)"
   ]
  },
  {
   "cell_type": "markdown",
   "metadata": {},
   "source": [
    "##### MODEL: Naive Bayes"
   ]
  },
  {
   "cell_type": "code",
   "execution_count": 154,
   "metadata": {},
   "outputs": [
    {
     "name": "stdout",
     "output_type": "stream",
     "text": [
      "training set: {'Pos': 12986, 'Neg': 114670, 'TP': 12721, 'TN': 103348, 'FP': 11322, 'FN': 265, 'Accuracy': 0.9092326251801717, 'Precision': 0.529093707108098, 'Recall': 0.9795934082858463, 'desc': 'nbs_train'} \n",
      "\n",
      "test set: {'Pos': 3239, 'Neg': 28676, 'TP': 2097, 'TN': 23637, 'FP': 5039, 'FN': 1142, 'Accuracy': 0.8063293122356259, 'Precision': 0.2938621076233184, 'Recall': 0.6474220438406916, 'desc': 'nbs_test'}\n"
     ]
    }
   ],
   "source": [
    "from sklearn.naive_bayes import MultinomialNB\n",
    "nbs = MultinomialNB()\n",
    "nbs.fit(X_train, y_train)\n",
    "\n",
    "nbs_performance_train = BinaryClassificationPerformance(nbs.predict(X_train), y_train, 'nbs_train')\n",
    "nbs_performance_train.compute_measures()\n",
    "print(\"training set:\", nbs_performance_train.performance_measures, \"\\n\")\n",
    "\n",
    "nbs_performance_test = BinaryClassificationPerformance(nbs.predict(X_test), y_test, 'nbs_test')\n",
    "nbs_performance_test.compute_measures()\n",
    "print(\"test set:\",nbs_performance_test.performance_measures)"
   ]
  },
  {
   "cell_type": "markdown",
   "metadata": {},
   "source": [
    "##### MODEL: Perceptron"
   ]
  },
  {
   "cell_type": "code",
   "execution_count": 155,
   "metadata": {},
   "outputs": [
    {
     "name": "stdout",
     "output_type": "stream",
     "text": [
      "training set: {'Pos': 12986, 'Neg': 114670, 'TP': 12867, 'TN': 114558, 'FP': 112, 'FN': 119, 'Accuracy': 0.9981904493325813, 'Precision': 0.9913706757069112, 'Recall': 0.9908362852302479, 'desc': 'prc_train'} \n",
      "\n",
      "test set: {'Pos': 3239, 'Neg': 28676, 'TP': 2055, 'TN': 27211, 'FP': 1465, 'FN': 1184, 'Accuracy': 0.9169982766724111, 'Precision': 0.5838068181818182, 'Recall': 0.6344550787280024, 'desc': 'prc_test'}\n"
     ]
    }
   ],
   "source": [
    "from sklearn import linear_model\n",
    "prc = linear_model.SGDClassifier(loss='perceptron')\n",
    "prc.fit(X_train, y_train)\n",
    "\n",
    "prc_performance_train = BinaryClassificationPerformance(prc.predict(X_train), y_train, 'prc_train')\n",
    "prc_performance_train.compute_measures()\n",
    "print(\"training set:\", prc_performance_train.performance_measures, \"\\n\")\n",
    "\n",
    "prc_performance_test = BinaryClassificationPerformance(prc.predict(X_test), y_test, 'prc_test')\n",
    "prc_performance_test.compute_measures()\n",
    "print(\"test set:\",prc_performance_test.performance_measures)"
   ]
  },
  {
   "cell_type": "markdown",
   "metadata": {},
   "source": [
    "##### MODEL: Ridge Regression Classifier"
   ]
  },
  {
   "cell_type": "code",
   "execution_count": 156,
   "metadata": {},
   "outputs": [
    {
     "name": "stdout",
     "output_type": "stream",
     "text": [
      "training set: {'Pos': 12986, 'Neg': 114670, 'TP': 11748, 'TN': 114488, 'FP': 182, 'FN': 1238, 'Accuracy': 0.9888763552046124, 'Precision': 0.9847443419949706, 'Recall': 0.9046665639919914, 'desc': 'rdg_train'} \n",
      "\n",
      "test set: {'Pos': 3239, 'Neg': 28676, 'TP': 1872, 'TN': 26589, 'FP': 2087, 'FN': 1367, 'Accuracy': 0.8917750274165753, 'Precision': 0.47284667845415507, 'Recall': 0.5779561593084285, 'desc': 'rdg_test'}\n"
     ]
    }
   ],
   "source": [
    "from sklearn import linear_model\n",
    "rdg = linear_model.RidgeClassifier()\n",
    "rdg.fit(X_train, y_train)\n",
    "\n",
    "rdg_performance_train = BinaryClassificationPerformance(rdg.predict(X_train), y_train, 'rdg_train')\n",
    "rdg_performance_train.compute_measures()\n",
    "print(\"training set:\", rdg_performance_train.performance_measures, \"\\n\")\n",
    "\n",
    "rdg_performance_test = BinaryClassificationPerformance(rdg.predict(X_test), y_test, 'rdg_test')\n",
    "rdg_performance_test.compute_measures()\n",
    "print(\"test set:\",rdg_performance_test.performance_measures)"
   ]
  },
  {
   "cell_type": "markdown",
   "metadata": {},
   "source": [
    "##### MODEL: Random Forest Classifier"
   ]
  },
  {
   "cell_type": "code",
   "execution_count": 157,
   "metadata": {},
   "outputs": [
    {
     "name": "stderr",
     "output_type": "stream",
     "text": [
      "/Users/jungang/Documents/my_measures.py:26: RuntimeWarning: invalid value encountered in long_scalars\n",
      "  self.performance_measures['Precision'] = self.performance_measures['TP'] / (self.performance_measures['TP'] + self.performance_measures['FP'])\n"
     ]
    },
    {
     "name": "stdout",
     "output_type": "stream",
     "text": [
      "training set: {'Pos': 12986, 'Neg': 114670, 'TP': 0, 'TN': 114670, 'FP': 0, 'FN': 12986, 'Accuracy': 0.8982734849909131, 'Precision': nan, 'Recall': 0.0, 'desc': 'rdf_train'} \n",
      "\n",
      "test set: {'Pos': 3239, 'Neg': 28676, 'TP': 0, 'TN': 28676, 'FP': 0, 'FN': 3239, 'Accuracy': 0.8985116716277612, 'Precision': nan, 'Recall': 0.0, 'desc': 'rdf_test'}\n"
     ]
    },
    {
     "name": "stderr",
     "output_type": "stream",
     "text": [
      "/Users/jungang/Documents/my_measures.py:26: RuntimeWarning: invalid value encountered in long_scalars\n",
      "  self.performance_measures['Precision'] = self.performance_measures['TP'] / (self.performance_measures['TP'] + self.performance_measures['FP'])\n"
     ]
    }
   ],
   "source": [
    "from sklearn.ensemble import RandomForestClassifier\n",
    "rdf = RandomForestClassifier(max_depth = 3)\n",
    "rdf.fit(X_train, y_train)\n",
    "\n",
    "rdf_performance_train = BinaryClassificationPerformance(rdf.predict(X_train).astype(np.int), y_train, 'rdf_train')\n",
    "rdf_performance_train.compute_measures()\n",
    "print(\"training set:\",rdf_performance_train.performance_measures, \"\\n\")\n",
    "\n",
    "rdf_performance_test = BinaryClassificationPerformance(rdf.predict(X_test), y_test, 'rdf_test')\n",
    "rdf_performance_test.compute_measures()\n",
    "print(\"test set:\",rdf_performance_test.performance_measures)"
   ]
  },
  {
   "cell_type": "markdown",
   "metadata": {},
   "source": [
    "### ROC plot to compare performance of various models and fits"
   ]
  },
  {
   "cell_type": "code",
   "execution_count": 158,
   "metadata": {
    "scrolled": false
   },
   "outputs": [
    {
     "data": {
      "image/png": "[encoded data removed]",
      "text/plain": [
       "<Figure size 432x288 with 1 Axes>"
      ]
     },
     "metadata": {
      "needs_background": "light"
     },
     "output_type": "display_data"
    }
   ],
   "source": [
    "fits = [ols_performance_train, svm_performance_train, lgs_performance_train, nbs_performance_train, prc_performance_train, rdg_performance_train, rdf_performance_train]\n",
    "\n",
    "for fit in fits:\n",
    "    plt.plot(fit.performance_measures['FP'] / fit.performance_measures['Neg'], \n",
    "             fit.performance_measures['TP'] / fit.performance_measures['Pos'], 'bo')\n",
    "    plt.text(fit.performance_measures['FP'] / fit.performance_measures['Neg'], \n",
    "             fit.performance_measures['TP'] / fit.performance_measures['Pos'], fit.desc)\n",
    "plt.axis([0, 1, 0, 1])\n",
    "plt.title('ROC plot: training set')\n",
    "plt.xlabel('False positive rate')\n",
    "plt.ylabel('True positive rate')\n",
    "plt.show()"
   ]
  },
  {
   "cell_type": "code",
   "execution_count": 159,
   "metadata": {},
   "outputs": [
    {
     "data": {
      "image/png": "[encoded data removed]",
      "text/plain": [
       "<Figure size 432x288 with 1 Axes>"
      ]
     },
     "metadata": {
      "needs_background": "light"
     },
     "output_type": "display_data"
    }
   ],
   "source": [
    "fits = [ols_performance_test, svm_performance_test, lgs_performance_test, nbs_performance_test, prc_performance_test, rdg_performance_test, rdf_performance_test]\n",
    "\n",
    "for fit in fits:\n",
    "    plt.plot(fit.performance_measures['FP'] / fit.performance_measures['Neg'], \n",
    "             fit.performance_measures['TP'] / fit.performance_measures['Pos'], 'bo')\n",
    "    plt.text(fit.performance_measures['FP'] / fit.performance_measures['Neg'], \n",
    "             fit.performance_measures['TP'] / fit.performance_measures['Pos'], fit.desc)\n",
    "plt.axis([0, 1, 0, 1])\n",
    "plt.title('ROC plot: test set')\n",
    "plt.xlabel('False positive rate')\n",
    "plt.ylabel('True positive rate')\n",
    "plt.show()"
   ]
  },
  {
   "cell_type": "markdown",
   "metadata": {},
   "source": [
    "# Iteration 2 -- text tidy"
   ]
  },
  {
   "cell_type": "markdown",
   "metadata": {},
   "source": [
    "In this iteration, I focus on the text processing method. In some situations that text is very dirty, we need to reduce the negative influence that the dirty data lead to. In this dataset, there are a lot of situations we need to pay attention to: the difference of upper and lower cases, common words/ punctuation removal.\n",
    "\n",
    "After tidy the data, I use the same encoding method as the first iteration and also same models to check the improvement of data preprocessing."
   ]
  },
  {
   "cell_type": "markdown",
   "metadata": {},
   "source": [
    "### Text Processing: lowcasing, common word removal"
   ]
  },
  {
   "cell_type": "code",
   "execution_count": 160,
   "metadata": {},
   "outputs": [
    {
     "name": "stdout",
     "output_type": "stream",
     "text": [
      "toxic_data is: <class 'pandas.core.frame.DataFrame'>\n",
      "toxic_data has 159571 rows and 9 columns \n",
      "\n",
      "the data types for each of the columns in toxic_data:\n",
      "id               object\n",
      "comment_text     object\n",
      "toxic             int64\n",
      "severe_toxic      int64\n",
      "obscene           int64\n",
      "threat            int64\n",
      "insult            int64\n",
      "identity_hate     int64\n",
      "any_toxic          bool\n",
      "dtype: object \n",
      "\n",
      "the first 10 rows in toxic_data:\n",
      "                 id                                       comment_text  toxic  \\\n",
      "0  0000997932d777bf  Explanation\\nWhy the edits made under my usern...      0   \n",
      "1  000103f0d9cfb60f  D'aww! He matches this background colour I'm s...      0   \n",
      "2  000113f07ec002fd  Hey man, I'm really not trying to edit war. It...      0   \n",
      "3  0001b41b1c6bb37e  \"\\nMore\\nI can't make any real suggestions on ...      0   \n",
      "4  0001d958c54c6e35  You, sir, are my hero. Any chance you remember...      0   \n",
      "\n",
      "   severe_toxic  obscene  threat  insult  identity_hate  any_toxic  \n",
      "0             0        0       0       0              0      False  \n",
      "1             0        0       0       0              0      False  \n",
      "2             0        0       0       0              0      False  \n",
      "3             0        0       0       0              0      False  \n",
      "4             0        0       0       0              0      False  \n",
      "The rate of 'toxic' Wikipedia comments in the dataset: \n",
      "0.10167887648758234\n",
      "lowcasing complete\n",
      "punctuation removal complete\n",
      "common words removal complete\n",
      "Shape of HashingVectorizer X:\n",
      "(159571, 131072)\n",
      "Look at a few rows of the new quantitative features: \n",
      "   word_count  punc_count  myfeature\n",
      "0          37           0          0\n",
      "1          16           0          0\n",
      "2          31           0          0\n",
      "3          74           0          0\n",
      "4           9           0          0\n",
      "5           8           0          0\n",
      "6           6           0          0\n",
      "7          14           0          0\n",
      "8          54           0          0\n",
      "9           6           0          0\n",
      "Size of combined bag of words and new quantitative variables matrix:\n",
      "(159571, 131075)\n",
      "(159571, 131075)\n",
      "Shape of X_train and X_test:\n",
      "(127656, 131075)\n",
      "(31915, 131075)\n",
      "Shape of y_train and y_test:\n",
      "(127656,)\n",
      "(31915,)\n",
      "Shape of X_raw_train and X_raw_test:\n",
      "(127656, 12)\n",
      "(31915, 12)\n",
      "SUCCESS!\n",
      "Number of fits stored in `fitted_transformations` list: \n",
      "3\n"
     ]
    }
   ],
   "source": [
    "\n",
    "# tidy the original text data by several rules\n",
    "def words_processing(fn, my_random_seed, test=False):\n",
    "    # read data\n",
    "    toxic_data = pd.read_csv(fn)\n",
    "    if (not test):\n",
    "        # add an indicator for any toxic, severe toxic, obscene, threat, insult, or indentity hate\n",
    "        toxic_data['any_toxic'] = (toxic_data['toxic'] + toxic_data['severe_toxic'] + toxic_data['obscene'] + toxic_data['threat'] + toxic_data['insult'] + toxic_data['identity_hate'] > 0)\n",
    "    print(\"toxic_data is:\", type(toxic_data))\n",
    "    print(\"toxic_data has\", toxic_data.shape[0], \"rows and\", toxic_data.shape[1], \"columns\", \"\\n\")\n",
    "    print(\"the data types for each of the columns in toxic_data:\")\n",
    "    print(toxic_data.dtypes, \"\\n\")\n",
    "    print(\"the first 10 rows in toxic_data:\")\n",
    "    print(toxic_data.head(5))\n",
    "    if (not test):\n",
    "        print(\"The rate of 'toxic' Wikipedia comments in the dataset: \")\n",
    "        print(toxic_data['any_toxic'].mean())\n",
    "\n",
    "    # lowcasing\n",
    "    toxic_data.comment_text = toxic_data.comment_text.apply(lambda x: \" \".join(x.lower() for x in x.split()))\n",
    "    print(\"lowcasing complete\")\n",
    "    \n",
    "    # remove punctuaton\n",
    "    toxic_data.comment_text = toxic_data.comment_text.str.replace(\"[^\\w\\s]\", \"\")\n",
    "    print(\"punctuation removal complete\")\n",
    "    \n",
    "    # remove common words\n",
    "    word_freq = list(pd.Series(\" \".join(toxic_data.comment_text).split()).value_counts()[:20].index)\n",
    "    toxic_data.comment_text = toxic_data.comment_text.apply(lambda x: \" \".join(x for x in x.split() if x not in word_freq))\n",
    "    print(\"common words removal complete\")\n",
    "\n",
    "    \n",
    "    if (not test): # fit_transform()\n",
    "        hv = HashingVectorizer(n_features=2 ** 17, alternate_sign=False)\n",
    "        X_hv = hv.fit_transform(toxic_data.comment_text)\n",
    "        fitted_transformations2.append(hv)\n",
    "        print(\"Shape of HashingVectorizer X:\")\n",
    "        print(X_hv.shape)\n",
    "    else: # transform() \n",
    "        X_hv = fitted_transformations2[0].transform(toxic_data.comment_text)\n",
    "        print(\"Shape of HashingVectorizer X:\")\n",
    "        print(X_hv.shape)\n",
    "    \n",
    "    # http://scikit-learn.org/stable/modules/generated/sklearn.feature_extraction.text.TfidfTransformer.html\n",
    "    if (not test):\n",
    "        transformer = TfidfTransformer()\n",
    "        X_tfidf = transformer.fit_transform(X_hv)\n",
    "        fitted_transformations2.append(transformer)\n",
    "    else:\n",
    "        X_tfidf = fitted_transformations2[1].transform(X_hv)\n",
    "    \n",
    "    # create additional quantitative features\n",
    "    # features from Amazon.csv to add to feature set\n",
    "    toxic_data['word_count'] = toxic_data['comment_text'].str.split(' ').str.len()\n",
    "    toxic_data['punc_count'] = toxic_data['comment_text'].str.count(\"\\.\")\n",
    "    toxic_data['myfeature'] =  toxic_data['comment_text'].str.split(' ').str.len() * toxic_data['comment_text'].str.count(\"\\.\");\n",
    "    X_quant_features = toxic_data[[\"word_count\", \"punc_count\",\"myfeature\"]]\n",
    "    print(\"Look at a few rows of the new quantitative features: \")\n",
    "    print(X_quant_features.head(10))\n",
    "    \n",
    "    # Combine all quantitative features into a single sparse matrix\n",
    "    X_quant_features_csr = csr_matrix(X_quant_features)\n",
    "    X_combined = hstack([X_tfidf, X_quant_features_csr])\n",
    "    X_matrix = csr_matrix(X_combined) # convert to sparse matrix\n",
    "    print(\"Size of combined bag of words and new quantitative variables matrix:\")\n",
    "    print(X_matrix.shape)\n",
    "    \n",
    "    # Create `X`, scaled matrix of features\n",
    "    # feature scaling\n",
    "    if (not test):\n",
    "        sc = StandardScaler(with_mean=False)\n",
    "        X = sc.fit_transform(X_matrix)\n",
    "        fitted_transformations2.append(sc)\n",
    "        print(X.shape)\n",
    "        y = toxic_data['any_toxic']\n",
    "    else:\n",
    "        X = fitted_transformations2[2].transform(X_matrix)\n",
    "        print(X.shape)\n",
    "    \n",
    "    # Create Training and Test Sets\n",
    "    # enter an integer for the random_state parameter; any integer will work\n",
    "    if (test):\n",
    "        X_submission_test = X\n",
    "        print(\"Shape of X_test for submission:\")\n",
    "        print(X_submission_test.shape)\n",
    "        print('SUCCESS!')\n",
    "        return(toxic_data, X_submission_test)\n",
    "    else: \n",
    "        X_train, X_test, y_train, y_test, X_raw_train, X_raw_test = train_test_split(X, y, toxic_data, test_size=0.2, random_state=my_random_seed)\n",
    "        print(\"Shape of X_train and X_test:\")\n",
    "        print(X_train.shape)\n",
    "        print(X_test.shape)\n",
    "        print(\"Shape of y_train and y_test:\")\n",
    "        print(y_train.shape)\n",
    "        print(y_test.shape)\n",
    "        print(\"Shape of X_raw_train and X_raw_test:\")\n",
    "        print(X_raw_train.shape)\n",
    "        print(X_raw_test.shape)\n",
    "        print('SUCCESS!')\n",
    "        return(X_train, X_test, y_train, y_test, X_raw_train, X_raw_test)\n",
    "\n",
    "#s = words_processing(fn='toxiccomments_train.csv', my_random_seed=100)\n",
    "# create an empty list to store any use of fit_transform() to transform() later\n",
    "# it is a global list to store model and feature extraction fits\n",
    "fitted_transformations2 = []\n",
    "\n",
    "# CHANGE FILE PATH and my_random_seed number (any integer other than 74 will do): \n",
    "X_train2, X_test2, y_train2, y_test2, X_raw_train2, X_raw_test2 = words_processing(fn='toxiccomments_train.csv', my_random_seed=12345)\n",
    "\n",
    "print(\"Number of fits stored in `fitted_transformations` list: \")\n",
    "print(len(fitted_transformations2))"
   ]
  },
  {
   "cell_type": "markdown",
   "metadata": {},
   "source": [
    "### Model and Assessing"
   ]
  },
  {
   "cell_type": "markdown",
   "metadata": {},
   "source": [
    "Here I run all models except random forest in the first iterations and name them xxx2 as the distinction to the models in the first iteration."
   ]
  },
  {
   "cell_type": "markdown",
   "metadata": {},
   "source": [
    "##### MODEL: ordinary least squares"
   ]
  },
  {
   "cell_type": "code",
   "execution_count": 161,
   "metadata": {},
   "outputs": [
    {
     "name": "stdout",
     "output_type": "stream",
     "text": [
      "training set: {'Pos': 12986, 'Neg': 114670, 'TP': 6653, 'TN': 56060, 'FP': 58610, 'FN': 6333, 'Accuracy': 0.4912655887698189, 'Precision': 0.10194137566461854, 'Recall': 0.5123209610349607, 'desc': 'ols_train2'} \n",
      "\n",
      "test set: {'Pos': 3239, 'Neg': 28676, 'TP': 1680, 'TN': 13891, 'FP': 14785, 'FN': 1559, 'Accuracy': 0.4878897070343099, 'Precision': 0.10203461888855148, 'Recall': 0.5186786045075641, 'desc': 'ols_test2'}\n"
     ]
    }
   ],
   "source": [
    "from sklearn import linear_model\n",
    "ols2 = linear_model.SGDClassifier(loss=\"squared_loss\")\n",
    "ols2.fit(X_train2, y_train2)\n",
    "\n",
    "ols_performance_train2 = BinaryClassificationPerformance(ols2.predict(X_train2), y_train2, 'ols_train2')\n",
    "ols_performance_train2.compute_measures()\n",
    "print(\"training set:\", ols_performance_train2.performance_measures, \"\\n\")\n",
    "\n",
    "ols_performance_test2 = BinaryClassificationPerformance(ols2.predict(X_test2), y_test2, 'ols_test2')\n",
    "ols_performance_test2.compute_measures()\n",
    "print(\"test set:\",ols_performance_test2.performance_measures)"
   ]
  },
  {
   "cell_type": "markdown",
   "metadata": {},
   "source": [
    "##### MODEL: SVM, linear"
   ]
  },
  {
   "cell_type": "code",
   "execution_count": 162,
   "metadata": {},
   "outputs": [
    {
     "name": "stdout",
     "output_type": "stream",
     "text": [
      "training set: {'Pos': 12986, 'Neg': 114670, 'TP': 12914, 'TN': 114579, 'FP': 91, 'FN': 72, 'Accuracy': 0.9987231309143323, 'Precision': 0.9930026912725874, 'Recall': 0.9944555675342677, 'desc': 'svm_train2'} \n",
      "\n",
      "test set: {'Pos': 3239, 'Neg': 28676, 'TP': 2018, 'TN': 27076, 'FP': 1600, 'FN': 1221, 'Accuracy': 0.9116089613034624, 'Precision': 0.5577667219458264, 'Recall': 0.6230317999382525, 'desc': 'svm_test2'}\n"
     ]
    }
   ],
   "source": [
    "from sklearn import linear_model\n",
    "svm2 = linear_model.SGDClassifier()\n",
    "svm2.fit(X_train2, y_train2)\n",
    "\n",
    "svm_performance_train2 = BinaryClassificationPerformance(svm2.predict(X_train2), y_train2, 'svm_train2')\n",
    "svm_performance_train2.compute_measures()\n",
    "print(\"training set:\", svm_performance_train2.performance_measures, \"\\n\")\n",
    "\n",
    "svm_performance_test2 = BinaryClassificationPerformance(svm2.predict(X_test2), y_test2, 'svm_test2')\n",
    "svm_performance_test2.compute_measures()\n",
    "print(\"test set:\",svm_performance_test2.performance_measures)"
   ]
  },
  {
   "cell_type": "markdown",
   "metadata": {},
   "source": [
    "##### MODEL: logistic regression"
   ]
  },
  {
   "cell_type": "code",
   "execution_count": 163,
   "metadata": {},
   "outputs": [
    {
     "name": "stdout",
     "output_type": "stream",
     "text": [
      "training set: {'Pos': 12986, 'Neg': 114670, 'TP': 12911, 'TN': 114625, 'FP': 45, 'FN': 75, 'Accuracy': 0.999059973679263, 'Precision': 0.9965267057733869, 'Recall': 0.9942245495148622, 'desc': 'lgs_train2'} \n",
      "\n",
      "test set: {'Pos': 3239, 'Neg': 28676, 'TP': 1998, 'TN': 27004, 'FP': 1672, 'FN': 1241, 'Accuracy': 0.9087263042456525, 'Precision': 0.5444141689373297, 'Recall': 0.6168570546464959, 'desc': 'lgs_test2'}\n"
     ]
    }
   ],
   "source": [
    "from sklearn import linear_model\n",
    "lgs2 = linear_model.SGDClassifier(loss='log')\n",
    "lgs2.fit(X_train2, y_train2)\n",
    "\n",
    "lgs_performance_train2 = BinaryClassificationPerformance(lgs2.predict(X_train2), y_train2, 'lgs_train2')\n",
    "lgs_performance_train2.compute_measures()\n",
    "print(\"training set:\", lgs_performance_train2.performance_measures, \"\\n\")\n",
    "\n",
    "lgs_performance_test2 = BinaryClassificationPerformance(lgs2.predict(X_test2), y_test2, 'lgs_test2')\n",
    "lgs_performance_test2.compute_measures()\n",
    "print(\"test set:\",lgs_performance_test2.performance_measures)"
   ]
  },
  {
   "cell_type": "markdown",
   "metadata": {},
   "source": [
    "##### MODEL: Ridge Regression Classifier"
   ]
  },
  {
   "cell_type": "code",
   "execution_count": 164,
   "metadata": {},
   "outputs": [
    {
     "name": "stdout",
     "output_type": "stream",
     "text": [
      "training set: {'Pos': 12986, 'Neg': 114670, 'TP': 12114, 'TN': 114507, 'FP': 163, 'FN': 872, 'Accuracy': 0.9918922729836436, 'Precision': 0.9867231408324509, 'Recall': 0.9328507623594641, 'desc': 'rdg_train2'} \n",
      "\n",
      "test set: {'Pos': 3239, 'Neg': 28676, 'TP': 1881, 'TN': 25516, 'FP': 3160, 'FN': 1358, 'Accuracy': 0.8584364718784271, 'Precision': 0.3731402499504067, 'Recall': 0.580734794689719, 'desc': 'rdg_test2'}\n"
     ]
    }
   ],
   "source": [
    "from sklearn import linear_model\n",
    "rdg2 = linear_model.RidgeClassifier()\n",
    "rdg2.fit(X_train2, y_train2)\n",
    "\n",
    "rdg_performance_train2 = BinaryClassificationPerformance(rdg2.predict(X_train2), y_train2, 'rdg_train2')\n",
    "rdg_performance_train2.compute_measures()\n",
    "print(\"training set:\",rdg_performance_train2.performance_measures, \"\\n\")\n",
    "\n",
    "rdg_performance_test2 = BinaryClassificationPerformance(rdg2.predict(X_test2), y_test2, 'rdg_test2')\n",
    "rdg_performance_test2.compute_measures()\n",
    "print(\"test set:\",rdg_performance_test2.performance_measures)"
   ]
  },
  {
   "cell_type": "markdown",
   "metadata": {},
   "source": [
    "##### MODEL: Perceptron"
   ]
  },
  {
   "cell_type": "code",
   "execution_count": 165,
   "metadata": {},
   "outputs": [
    {
     "name": "stdout",
     "output_type": "stream",
     "text": [
      "training set: {'Pos': 12986, 'Neg': 114670, 'TP': 12909, 'TN': 114593, 'FP': 77, 'FN': 77, 'Accuracy': 0.9987936328883875, 'Precision': 0.9940705375019252, 'Recall': 0.9940705375019252, 'desc': 'prc_train2'} \n",
      "\n",
      "test set: {'Pos': 3239, 'Neg': 28676, 'TP': 2014, 'TN': 27075, 'FP': 1601, 'FN': 1225, 'Accuracy': 0.9114522951590162, 'Precision': 0.5571230982019364, 'Recall': 0.6217968508799012, 'desc': 'prc_test2'}\n"
     ]
    }
   ],
   "source": [
    "from sklearn import linear_model\n",
    "prc2 = linear_model.SGDClassifier(loss='perceptron')\n",
    "prc2.fit(X_train2, y_train2)\n",
    "\n",
    "prc_performance_train2 = BinaryClassificationPerformance(prc2.predict(X_train2), y_train2, 'prc_train2')\n",
    "prc_performance_train2.compute_measures()\n",
    "print(\"training set:\",prc_performance_train2.performance_measures, \"\\n\")\n",
    "\n",
    "prc_performance_test2 = BinaryClassificationPerformance(prc2.predict(X_test2), y_test2, 'prc_test2')\n",
    "prc_performance_test2.compute_measures()\n",
    "print(\"test set:\",prc_performance_test2.performance_measures)"
   ]
  },
  {
   "cell_type": "markdown",
   "metadata": {},
   "source": [
    "Here we can find the improvement is very little. I think this is due to the easy way to tidy the data. Then, I consider to apply different method to do the data cleaning."
   ]
  },
  {
   "cell_type": "markdown",
   "metadata": {},
   "source": [
    "# Iteration 3 -- dimension reduction"
   ]
  },
  {
   "cell_type": "markdown",
   "metadata": {},
   "source": [
    "Since in last iteration, the improvement of the model performance is little, I consider it caused by high dimension problem, that the feature is very sparse in high dimension. So dimension reduction techniques will be considered to cope with this problem. Here I only use SVD to solve it."
   ]
  },
  {
   "cell_type": "code",
   "execution_count": 166,
   "metadata": {},
   "outputs": [
    {
     "name": "stdout",
     "output_type": "stream",
     "text": [
      "toxic_data is: <class 'pandas.core.frame.DataFrame'>\n",
      "toxic_data has 159571 rows and 9 columns \n",
      "\n",
      "the data types for each of the columns in toxic_data:\n",
      "id               object\n",
      "comment_text     object\n",
      "toxic             int64\n",
      "severe_toxic      int64\n",
      "obscene           int64\n",
      "threat            int64\n",
      "insult            int64\n",
      "identity_hate     int64\n",
      "any_toxic          bool\n",
      "dtype: object \n",
      "\n",
      "the first 10 rows in toxic_data:\n",
      "                 id                                       comment_text  toxic  \\\n",
      "0  0000997932d777bf  Explanation\\nWhy the edits made under my usern...      0   \n",
      "1  000103f0d9cfb60f  D'aww! He matches this background colour I'm s...      0   \n",
      "2  000113f07ec002fd  Hey man, I'm really not trying to edit war. It...      0   \n",
      "3  0001b41b1c6bb37e  \"\\nMore\\nI can't make any real suggestions on ...      0   \n",
      "4  0001d958c54c6e35  You, sir, are my hero. Any chance you remember...      0   \n",
      "\n",
      "   severe_toxic  obscene  threat  insult  identity_hate  any_toxic  \n",
      "0             0        0       0       0              0      False  \n",
      "1             0        0       0       0              0      False  \n",
      "2             0        0       0       0              0      False  \n",
      "3             0        0       0       0              0      False  \n",
      "4             0        0       0       0              0      False  \n",
      "The rate of 'toxic' Wikipedia comments in the dataset: \n",
      "0.10167887648758234\n",
      "lowcasing complete\n",
      "punctuation removal complete\n",
      "common words removal complete\n",
      "Shape of HashingVectorizer X:\n",
      "(159571, 131072)\n",
      "Look at a few rows of the new quantitative features: \n",
      "   word_count  punc_count  myfeature\n",
      "0          37           0          0\n",
      "1          16           0          0\n",
      "2          31           0          0\n",
      "3          74           0          0\n",
      "4           9           0          0\n",
      "5           8           0          0\n",
      "6           6           0          0\n",
      "7          14           0          0\n",
      "8          54           0          0\n",
      "9           6           0          0\n",
      "Size of combined bag of words and new quantitative variables matrix:\n",
      "(159571, 131075)\n",
      "(159571, 512)\n",
      "Shape of X_train and X_test:\n",
      "(127656, 512)\n",
      "(31915, 512)\n",
      "Shape of y_train and y_test:\n",
      "(127656,)\n",
      "(31915,)\n",
      "Shape of X_raw_train and X_raw_test:\n",
      "(127656, 12)\n",
      "(31915, 12)\n",
      "SUCCESS!\n",
      "Number of fits stored in `fitted_transformations` list: \n",
      "4\n"
     ]
    }
   ],
   "source": [
    "from sklearn import decomposition\n",
    "def words_processing_svd(fn, my_random_seed, test=False):\n",
    "    # read data\n",
    "    toxic_data = pd.read_csv(fn)\n",
    "    if (not test):\n",
    "        # add an indicator for any toxic, severe toxic, obscene, threat, insult, or indentity hate\n",
    "        toxic_data['any_toxic'] = (toxic_data['toxic'] + toxic_data['severe_toxic'] + toxic_data['obscene'] + toxic_data['threat'] + toxic_data['insult'] + toxic_data['identity_hate'] > 0)\n",
    "    print(\"toxic_data is:\", type(toxic_data))\n",
    "    print(\"toxic_data has\", toxic_data.shape[0], \"rows and\", toxic_data.shape[1], \"columns\", \"\\n\")\n",
    "    print(\"the data types for each of the columns in toxic_data:\")\n",
    "    print(toxic_data.dtypes, \"\\n\")\n",
    "    print(\"the first 10 rows in toxic_data:\")\n",
    "    print(toxic_data.head(5))\n",
    "    if (not test):\n",
    "        print(\"The rate of 'toxic' Wikipedia comments in the dataset: \")\n",
    "        print(toxic_data['any_toxic'].mean())\n",
    "\n",
    "    # lowcasing\n",
    "    toxic_data.comment_text = toxic_data.comment_text.apply(lambda x: \" \".join(x.lower() for x in x.split()))\n",
    "    print(\"lowcasing complete\")\n",
    "    \n",
    "    # remove punctuaton\n",
    "    toxic_data.comment_text = toxic_data.comment_text.str.replace(\"[^\\w\\s]\", \"\")\n",
    "    print(\"punctuation removal complete\")\n",
    "\n",
    "    # remove common words\n",
    "    word_freq = list(pd.Series(\" \".join(toxic_data.comment_text).split()).value_counts()[:20].index)\n",
    "    toxic_data.comment_text = toxic_data.comment_text.apply(lambda x: \" \".join(x for x in x.split() if x not in word_freq))\n",
    "    print(\"common words removal complete\")\n",
    "\n",
    "    \n",
    "    if (not test): # fit_transform()\n",
    "        hv = HashingVectorizer(n_features=2 ** 17, alternate_sign=False)\n",
    "        X_hv = hv.fit_transform(toxic_data.comment_text)\n",
    "        fitted_transformations3.append(hv)\n",
    "        print(\"Shape of HashingVectorizer X:\")\n",
    "        print(X_hv.shape)\n",
    "    else: # transform() \n",
    "        X_hv = fitted_transformations3[0].transform(toxic_data.comment_text)\n",
    "        print(\"Shape of HashingVectorizer X:\")\n",
    "        print(X_hv.shape)\n",
    "    \n",
    "    # http://scikit-learn.org/stable/modules/generated/sklearn.feature_extraction.text.TfidfTransformer.html\n",
    "    if (not test):\n",
    "        transformer = TfidfTransformer()\n",
    "        X_tfidf = transformer.fit_transform(X_hv)\n",
    "        fitted_transformations3.append(transformer)\n",
    "    else:\n",
    "        X_tfidf = fitted_transformations3[1].transform(X_hv)\n",
    "    \n",
    "    # create additional quantitative features\n",
    "    # features from Amazon.csv to add to feature set\n",
    "    toxic_data['word_count'] = toxic_data['comment_text'].str.split(' ').str.len()\n",
    "    toxic_data['punc_count'] = toxic_data['comment_text'].str.count(\"\\.\")\n",
    "    toxic_data['myfeature'] =  toxic_data['comment_text'].str.split(' ').str.len() * toxic_data['comment_text'].str.count(\"\\.\");\n",
    "    X_quant_features = toxic_data[[\"word_count\", \"punc_count\",\"myfeature\"]]\n",
    "    print(\"Look at a few rows of the new quantitative features: \")\n",
    "    print(X_quant_features.head(10))\n",
    "    \n",
    "    # Combine all quantitative features into a single sparse matrix\n",
    "    X_quant_features_csr = csr_matrix(X_quant_features)\n",
    "    X_combined = hstack([X_tfidf, X_quant_features_csr])\n",
    "    X_matrix = csr_matrix(X_combined) # convert to sparse matrix\n",
    "    print(\"Size of combined bag of words and new quantitative variables matrix:\")\n",
    "    print(X_matrix.shape)\n",
    "    \n",
    "    # Create `X`, scaled matrix of features\n",
    "    # feature scaling\n",
    "    if (not test):\n",
    "        sc = StandardScaler(with_mean=False)\n",
    "        X = sc.fit_transform(X_matrix)\n",
    "        fitted_transformations3.append(sc)\n",
    "        \n",
    "        svd = decomposition.TruncatedSVD(512)\n",
    "        X = svd.fit_transform(X)\n",
    "        fitted_transformations3.append(svd)\n",
    "        print(X.shape)\n",
    "        y = toxic_data['any_toxic']\n",
    "        \n",
    "        \n",
    "        \n",
    "        \n",
    "    else:\n",
    "        X = fitted_transformations3[2].transform(X_matrix)\n",
    "        X = fitted_transformations3[3].transform(X)\n",
    "        print(X.shape)\n",
    "    \n",
    "    # Create Training and Test Sets\n",
    "    # enter an integer for the random_state parameter; any integer will work\n",
    "    if (test):\n",
    "        X_submission_test = X\n",
    "        print(\"Shape of X_test for submission:\")\n",
    "        print(X_submission_test.shape)\n",
    "        print('SUCCESS!')\n",
    "        return(toxic_data, X_submission_test)\n",
    "    else: \n",
    "        X_train, X_test, y_train, y_test, X_raw_train, X_raw_test = train_test_split(X, y, toxic_data, test_size=0.2, random_state=my_random_seed)\n",
    "        print(\"Shape of X_train and X_test:\")\n",
    "        print(X_train.shape)\n",
    "        print(X_test.shape)\n",
    "        print(\"Shape of y_train and y_test:\")\n",
    "        print(y_train.shape)\n",
    "        print(y_test.shape)\n",
    "        print(\"Shape of X_raw_train and X_raw_test:\")\n",
    "        print(X_raw_train.shape)\n",
    "        print(X_raw_test.shape)\n",
    "        print('SUCCESS!')\n",
    "        return(X_train, X_test, y_train, y_test, X_raw_train, X_raw_test)\n",
    "    \n",
    "\n",
    "#s = words_processing(fn='toxiccomments_train.csv', my_random_seed=100)\n",
    "# create an empty list to store any use of fit_transform() to transform() later\n",
    "# it is a global list to store model and feature extraction fits\n",
    "fitted_transformations3 = []\n",
    "\n",
    "# CHANGE FILE PATH and my_random_seed number (any integer other than 74 will do): \n",
    "X_train3, X_test3, y_train3, y_test3, X_raw_train3, X_raw_test3 = words_processing_svd(fn='toxiccomments_train.csv', my_random_seed=100)\n",
    "\n",
    "print(\"Number of fits stored in `fitted_transformations` list: \")\n",
    "print(len(fitted_transformations3))"
   ]
  },
  {
   "cell_type": "markdown",
   "metadata": {},
   "source": [
    "### Model and Assessing"
   ]
  },
  {
   "cell_type": "markdown",
   "metadata": {},
   "source": [
    "Here we only try to build the model of svm, ridge regression and perceptron to check the results."
   ]
  },
  {
   "cell_type": "markdown",
   "metadata": {},
   "source": [
    "##### MODEL: SVM, linear"
   ]
  },
  {
   "cell_type": "code",
   "execution_count": 167,
   "metadata": {},
   "outputs": [
    {
     "name": "stdout",
     "output_type": "stream",
     "text": [
      "training set: {'Pos': 12937, 'Neg': 114719, 'TP': 2887, 'TN': 111584, 'FP': 3135, 'FN': 10050, 'Accuracy': 0.8967146080090242, 'Precision': 0.47940883427432746, 'Recall': 0.22315838293267373, 'desc': 'svm_train3'} \n",
      "\n",
      "test set: {'Pos': 3288, 'Neg': 28627, 'TP': 673, 'TN': 27783, 'FP': 844, 'FN': 2615, 'Accuracy': 0.8916183612721291, 'Precision': 0.4436387607119314, 'Recall': 0.204683698296837, 'desc': 'svm_test3'}\n"
     ]
    }
   ],
   "source": [
    "from sklearn import linear_model\n",
    "svm3 = linear_model.SGDClassifier()\n",
    "svm3.fit(X_train3, y_train3)\n",
    "\n",
    "svm_performance_train3 = BinaryClassificationPerformance(svm3.predict(X_train3), y_train3, 'svm_train3')\n",
    "svm_performance_train3.compute_measures()\n",
    "print(\"training set:\", svm_performance_train3.performance_measures, \"\\n\")\n",
    "\n",
    "svm_performance_test3 = BinaryClassificationPerformance(svm3.predict(X_test3), y_test3, 'svm_test3')\n",
    "svm_performance_test3.compute_measures()\n",
    "print(\"test set:\", svm_performance_test3.performance_measures)"
   ]
  },
  {
   "cell_type": "markdown",
   "metadata": {},
   "source": [
    "##### MODEL: Ridge Regression Classifier"
   ]
  },
  {
   "cell_type": "code",
   "execution_count": 168,
   "metadata": {},
   "outputs": [
    {
     "name": "stdout",
     "output_type": "stream",
     "text": [
      "training set: {'Pos': 12937, 'Neg': 114719, 'TP': 45, 'TN': 114636, 'FP': 83, 'FN': 12892, 'Accuracy': 0.8983596540703139, 'Precision': 0.3515625, 'Recall': 0.003478395300301461, 'desc': 'rdg_train3'} \n",
      "\n",
      "test set: {'Pos': 3288, 'Neg': 28627, 'TP': 8, 'TN': 28586, 'FP': 41, 'FN': 3280, 'Accuracy': 0.8959423468588438, 'Precision': 0.16326530612244897, 'Recall': 0.0024330900243309003, 'desc': 'rdg_test3'}\n"
     ]
    }
   ],
   "source": [
    "from sklearn import linear_model\n",
    "rdg3 = linear_model.RidgeClassifier()\n",
    "rdg3.fit(X_train3, y_train3)\n",
    "\n",
    "rdg_performance_train3 = BinaryClassificationPerformance(rdg3.predict(X_train3), y_train3, 'rdg_train3')\n",
    "rdg_performance_train3.compute_measures()\n",
    "print(\"training set:\",rdg_performance_train3.performance_measures, \"\\n\")\n",
    "\n",
    "rdg_performance_test3 = BinaryClassificationPerformance(rdg3.predict(X_test3), y_test3, 'rdg_test3')\n",
    "rdg_performance_test3.compute_measures()\n",
    "print(\"test set:\", rdg_performance_test3.performance_measures)"
   ]
  },
  {
   "cell_type": "markdown",
   "metadata": {},
   "source": [
    "##### MODEL: Perceptron"
   ]
  },
  {
   "cell_type": "code",
   "execution_count": 169,
   "metadata": {},
   "outputs": [
    {
     "name": "stdout",
     "output_type": "stream",
     "text": [
      "training set: {'Pos': 12937, 'Neg': 114719, 'TP': 4886, 'TN': 105110, 'FP': 9609, 'FN': 8051, 'Accuracy': 0.8616594597982077, 'Precision': 0.3370817523283891, 'Recall': 0.37767643193939865, 'desc': 'prc_train3'} \n",
      "\n",
      "test set: {'Pos': 3288, 'Neg': 28627, 'TP': 1181, 'TN': 26143, 'FP': 2484, 'FN': 2107, 'Accuracy': 0.8561491461695128, 'Precision': 0.32223738062755797, 'Recall': 0.35918491484184917, 'desc': 'prc_test3'}\n"
     ]
    }
   ],
   "source": [
    "from sklearn import linear_model\n",
    "prc3 = linear_model.SGDClassifier(loss='perceptron')\n",
    "prc3.fit(X_train3, y_train3)\n",
    "\n",
    "prc_performance_train3 = BinaryClassificationPerformance(prc3.predict(X_train3), y_train3, 'prc_train3')\n",
    "prc_performance_train3.compute_measures()\n",
    "print(\"training set:\", prc_performance_train3.performance_measures, \"\\n\")\n",
    "\n",
    "prc_performance_test3 = BinaryClassificationPerformance(prc3.predict(X_test3), y_test3, 'prc_test3')\n",
    "prc_performance_test3.compute_measures()\n",
    "print(\"test set:\",prc_performance_test3.performance_measures)"
   ]
  },
  {
   "cell_type": "markdown",
   "metadata": {},
   "source": [
    "The results show this dimension reduction method is not appropriate for this kind of dataset. So I think about different models to deal with it."
   ]
  },
  {
   "cell_type": "markdown",
   "metadata": {},
   "source": [
    "# Iteration 4 -- xgboost"
   ]
  },
  {
   "cell_type": "markdown",
   "metadata": {},
   "source": [
    "From the results of the third iteration, we may find the results show poor results compared with the first and second iterations. So I think this maybe due to poor model performance. Thus in this iteration, I will use a famous machine learning model: Xgboost."
   ]
  },
  {
   "cell_type": "code",
   "execution_count": 170,
   "metadata": {},
   "outputs": [
    {
     "name": "stdout",
     "output_type": "stream",
     "text": [
      "training set: {'Pos': 12986, 'Neg': 114670, 'TP': 8914, 'TN': 114468, 'FP': 202, 'FN': 4072, 'Accuracy': 0.9665193958764179, 'Precision': 0.9778411584028083, 'Recall': 0.6864315416602494, 'desc': 'xgb_train'} \n",
      "\n",
      "test set: {'Pos': 3239, 'Neg': 28676, 'TP': 1985, 'TN': 28479, 'FP': 197, 'FN': 1254, 'Accuracy': 0.954535484881717, 'Precision': 0.9097158570119157, 'Recall': 0.6128434702068539, 'desc': 'xgb_test'}\n"
     ]
    }
   ],
   "source": [
    "# Xgboost\n",
    "# Use the default settings using data in iteration 1\n",
    "\n",
    "import xgboost as xgb\n",
    "from xgboost.sklearn import XGBClassifier\n",
    "\n",
    "xgb = XGBClassifier()\n",
    "xgb.fit(X_train, y_train)\n",
    "\n",
    "xgb_performance_train = BinaryClassificationPerformance(xgb.predict(X_train), y_train, 'xgb_train')\n",
    "xgb_performance_train.compute_measures()\n",
    "print(\"training set:\",xgb_performance_train.performance_measures, \"\\n\")\n",
    "\n",
    "xgb_performance_test = BinaryClassificationPerformance(xgb.predict(X_test), y_test, 'xgb_test')\n",
    "xgb_performance_test.compute_measures()\n",
    "print(\"test set:\", xgb_performance_test.performance_measures)"
   ]
  },
  {
   "cell_type": "code",
   "execution_count": 171,
   "metadata": {},
   "outputs": [
    {
     "name": "stdout",
     "output_type": "stream",
     "text": [
      "training set: {'Pos': 12986, 'Neg': 114670, 'TP': 8468, 'TN': 114429, 'FP': 241, 'FN': 4518, 'Accuracy': 0.9627201228301059, 'Precision': 0.9723274773223103, 'Recall': 0.6520868627752965, 'desc': 'xgb_train2'} \n",
      "\n",
      "test set: {'Pos': 3239, 'Neg': 28676, 'TP': 1895, 'TN': 28492, 'FP': 184, 'FN': 1344, 'Accuracy': 0.9521228262572458, 'Precision': 0.9114959114959115, 'Recall': 0.5850571163939488, 'desc': 'xgb_test2'}\n"
     ]
    }
   ],
   "source": [
    "# Xgboost\n",
    "# Use the default settings using data in iteration 2\n",
    "\n",
    "import xgboost as xgb\n",
    "from xgboost.sklearn import XGBClassifier\n",
    "\n",
    "xgb2 = XGBClassifier()\n",
    "xgb2.fit(X_train2, y_train2)\n",
    "\n",
    "xgb_performance_train2 = BinaryClassificationPerformance(xgb2.predict(X_train2), y_train2, 'xgb_train2')\n",
    "xgb_performance_train2.compute_measures()\n",
    "print(\"training set:\",xgb_performance_train2.performance_measures, \"\\n\")\n",
    "\n",
    "xgb_performance_test2 = BinaryClassificationPerformance(xgb2.predict(X_test2), y_test2, 'xgb_test2')\n",
    "xgb_performance_test2.compute_measures()\n",
    "print(\"test set:\", xgb_performance_test2.performance_measures)"
   ]
  },
  {
   "cell_type": "markdown",
   "metadata": {},
   "source": [
    "### ROC plot to compare performance of various models and fits"
   ]
  },
  {
   "cell_type": "code",
   "execution_count": 172,
   "metadata": {},
   "outputs": [
    {
     "data": {
      "image/png": "[encoded data removed]",
      "text/plain": [
       "<Figure size 432x288 with 1 Axes>"
      ]
     },
     "metadata": {
      "needs_background": "light"
     },
     "output_type": "display_data"
    }
   ],
   "source": [
    "fits = [ols_performance_test, svm_performance_test, lgs_performance_test, nbs_performance_test, prc_performance_test, rdg_performance_test, rdf_performance_test, \n",
    "       ols_performance_test2, svm_performance_test2, lgs_performance_test2, prc_performance_test2, rdg_performance_test2,\n",
    "        svm_performance_test3, rdg_performance_test3, prc_performance_test3,\n",
    "        xgb_performance_test,  xgb_performance_test2\n",
    "       ]\n",
    "\n",
    "\n",
    "for fit in fits:\n",
    "    plt.plot(fit.performance_measures['FP'] / fit.performance_measures['Neg'], \n",
    "             fit.performance_measures['TP'] / fit.performance_measures['Pos'], 'bo')\n",
    "    plt.text(fit.performance_measures['FP'] / fit.performance_measures['Neg'], \n",
    "             fit.performance_measures['TP'] / fit.performance_measures['Pos'], fit.desc)\n",
    "plt.axis([0, 1, 0, 1])\n",
    "plt.title('ROC plot: test set')\n",
    "plt.xlabel('False positive rate')\n",
    "plt.ylabel('True positive rate')\n",
    "plt.show()"
   ]
  },
  {
   "cell_type": "markdown",
   "metadata": {},
   "source": [
    "### F1-Score to compare performance of various models"
   ]
  },
  {
   "cell_type": "markdown",
   "metadata": {},
   "source": [
    "F1 score is a metric to measure the model performance combined with both precision and recall. The formula is  $f1{score} = 2* \\frac{precision * recall}{precision + recall}$. The range of f1 score is [0, 1], so we can use it to replace the accuracy as a metric."
   ]
  },
  {
   "cell_type": "code",
   "execution_count": 173,
   "metadata": {},
   "outputs": [
    {
     "name": "stdout",
     "output_type": "stream",
     "text": [
      "ols_test : 0.16611740473738415\n",
      "svm_test : 0.6010832967354707\n",
      "lgs_test : 0.6045016077170418\n",
      "nbs_test : 0.40424096385542163\n",
      "prc_test : 0.6080781180648025\n",
      "rdg_test : 0.5201444845790497\n",
      "rdf_test : nan\n",
      "ols_test2 : 0.1705237515225335\n",
      "svm_test2 : 0.588595595741578\n",
      "lgs_test2 : 0.5783760312635693\n",
      "prc_test2 : 0.5876860227604319\n",
      "rdg_test2 : 0.4543478260869565\n",
      "svm_test3 : 0.28012486992715924\n",
      "rdg_test3 : 0.00479472580161822\n",
      "prc_test3 : 0.3397094779231986\n",
      "xgb_test : 0.7323372071573511\n",
      "xgb_test2 : 0.7126739375705152\n"
     ]
    }
   ],
   "source": [
    "# define f1\n",
    "def f1(performance_measures):\n",
    "    return 2 * performance_measures.performance_measures[\"Precision\"] * performance_measures.performance_measures[\"Recall\"] / (performance_measures.performance_measures[\"Precision\"] + performance_measures.performance_measures[\"Recall\"])\n",
    "\n",
    "\n",
    "fits = [ols_performance_test, svm_performance_test, lgs_performance_test, nbs_performance_test, prc_performance_test, rdg_performance_test, rdf_performance_test, \n",
    "       ols_performance_test2, svm_performance_test2, lgs_performance_test2, prc_performance_test2, rdg_performance_test2, \n",
    "        svm_performance_test3, rdg_performance_test3, prc_performance_test3,\n",
    "        xgb_performance_test,  xgb_performance_test2\n",
    "       ]\n",
    "for fit in fits:\n",
    "    print(fit.desc, \":\", f1(fit))"
   ]
  },
  {
   "cell_type": "markdown",
   "metadata": {},
   "source": [
    "### looking at reviews based on their classification\n",
    "\n",
    "Let's say we decide that Xgboost is the best model on test set. Let's take a look at some of the reviews and try to make a (subjective) determination of whether it is."
   ]
  },
  {
   "cell_type": "markdown",
   "metadata": {},
   "source": [
    "### let's look at some false positives:"
   ]
  },
  {
   "cell_type": "code",
   "execution_count": 174,
   "metadata": {},
   "outputs": [],
   "source": [
    "xgb_predictions = xgb2.predict(X_test)"
   ]
  },
  {
   "cell_type": "code",
   "execution_count": 175,
   "metadata": {},
   "outputs": [
    {
     "name": "stdout",
     "output_type": "stream",
     "text": [
      "Examples of false positives:\n",
      "58\n",
      "It was signed Moron - what part of that didn't you understand...\n",
      "* * * * * * * * * \n",
      "780\n",
      "\"BTW The Adversary on the wikipediareview website has  reputation for being extremely nasty and unpleasant about other wikipedians. Now Huldra has revealed this to be her, are you certain Huldra is exactly the sweet loving person she is to you. I have created a great deal really good content on here and this is how she and her moron wasters regard me. White cat  \n",
      "\n",
      "\"\n",
      "* * * * * * * * * \n",
      "5178\n",
      "\"\n",
      "\n",
      " TMI / Randall Thompson \n",
      "Hm, are you saying that your claims regarding his claims are more reputable due to your mentioning of him mentioning conspiracy?  I'd challenge your sanity if that would be the case, of course hoping it is not.  Many real stories sound unbelievable, and lots of crap is thoroughly \"\"sourced\"\" to fool people.  It takes close attention to even small discrepancies to tell reality apart from crap at times.  Good luck.   \"\n",
      "* * * * * * * * * \n",
      "5742\n",
      "Well, my mother always said that stupid comes in threes...all we need is one more, don't we? - User:Rattlerbrat\n",
      "* * * * * * * * * \n",
      "6659\n",
      "If she really has a problem with this stuff and what people are saying about her, then she should probably not act like such a stupid fool and commit all of these crimes!  She seems to me to be a VERY dangerous person and the Judge at her February 15, 2010, sentencing hearing said that she has showed NO REMORSE for her criminal activities.  I am willing to bet that she will soon be back before a court for violating her probation.\n",
      "* * * * * * * * * \n",
      "9201\n",
      "BARNSTAR \n",
      "as much as a stupid idea that is you should not have givin it to someone who blocked someone for vandelism if they didnt so i request you remove it and get me unblocked NOW.\n",
      "* * * * * * * * * \n",
      "13723\n",
      "\"\n",
      "I wish nothing to do with your \"\"community\"\" or bureaucratic processes. Good luck with your pathetic spam farm.  \"\n",
      "* * * * * * * * * \n",
      "14245\n",
      "\"\n",
      "I can dig up hundreds of sources of information that refer to African-Americans as \"\"Negroes\"\" or worse and the mentally challenged as \"\"idiots, imbeciles, morons\"\". The fact that a term has been used popularly in the past does not make it acceptable or scientific today. You will not find a source that states the ISR was a provisional government because the term is new and part of the evolving science of diplomacy and peace studies.  \"\n",
      "* * * * * * * * * \n",
      "16288\n",
      "efforts for the gay community keep it up man.\n",
      "* * * * * * * * * \n",
      "19990\n",
      "Missing sections \n",
      "\n",
      "As far as I can tell (& I admit to having drifted off now and then while reading it), this enormous article makes no mention at all of either political stereotyping (e.g. liberals are rich people who want to be loved by the people they shit on) or of the stereotypes of social class. Why?\n",
      "* * * * * * * * * \n",
      "20372\n",
      "RE: Bizarre Ride II \n",
      "\n",
      "Shit, I wrote that entire thing, man. It got turned down for FA, so I'm done with it. Good luck though.\n",
      "* * * * * * * * * \n",
      "21402\n",
      "\"Because of the growing irrelevance of Wikipedia and the Squeakbox crowd, I haven't bothered coming around here and this time I have read the incredible filth placed above by \"\"Hierarchypedia\"\" (interesting how none of you care to reveal your true identities.  The f___ word simply is not and never has been in my vocabulary.  I have NEVER posted the \"\"love that pot\"\" message.  That type of low class street talk comes from others!  I think retractions and apologies to myself are in order!\n",
      "\n",
      "\"\n",
      "* * * * * * * * * \n",
      "21984\n",
      "it is truly amazing how many ill-educated racists support Trump. Friends, if you would spend half the time pursuing an education and bettering yourself as you spend fawning over your Fuhrer and purchasing stupid hats with concealed racist slogans on them, your life would be much better, and you would not need to turn demagogues to feel better about your sorry lot in life. Chin up, friend!\n",
      "* * * * * * * * * \n"
     ]
    }
   ],
   "source": [
    "# false positives\n",
    "\n",
    "print(\"Examples of false positives:\")\n",
    "\n",
    "import random, time\n",
    "\n",
    "for i in range(0, len(xgb_predictions)):\n",
    "    if (xgb_predictions[i] == 1):\n",
    "        if (X_raw_test.iloc[i]['any_toxic'] == 0):\n",
    "            if (random.uniform(0, 1) < 0.05): # to print only 5% of the false positives\n",
    "                print(i)\n",
    "                print(X_raw_test.iloc[i]['comment_text'])\n",
    "                print('* * * * * * * * * ')\n"
   ]
  },
  {
   "cell_type": "markdown",
   "metadata": {},
   "source": [
    "# Iteration 5 -- tune parameters"
   ]
  },
  {
   "cell_type": "markdown",
   "metadata": {},
   "source": [
    "After applying the most powerful tools, I consider using cross-validation to tune the parameters of xgboost to achieve the best performance. Since the model training will cost a lot, we just use 2-folder to select the best results."
   ]
  },
  {
   "cell_type": "code",
   "execution_count": 176,
   "metadata": {},
   "outputs": [
    {
     "name": "stdout",
     "output_type": "stream",
     "text": [
      "toxic_data is: <class 'pandas.core.frame.DataFrame'>\n",
      "toxic_data has 159571 rows and 9 columns \n",
      "\n",
      "the data types for each of the columns in toxic_data:\n",
      "id               object\n",
      "comment_text     object\n",
      "toxic             int64\n",
      "severe_toxic      int64\n",
      "obscene           int64\n",
      "threat            int64\n",
      "insult            int64\n",
      "identity_hate     int64\n",
      "any_toxic          bool\n",
      "dtype: object \n",
      "\n",
      "the first 10 rows in toxic_data:\n",
      "                 id                                       comment_text  toxic  \\\n",
      "0  0000997932d777bf  Explanation\\nWhy the edits made under my usern...      0   \n",
      "1  000103f0d9cfb60f  D'aww! He matches this background colour I'm s...      0   \n",
      "2  000113f07ec002fd  Hey man, I'm really not trying to edit war. It...      0   \n",
      "3  0001b41b1c6bb37e  \"\\nMore\\nI can't make any real suggestions on ...      0   \n",
      "4  0001d958c54c6e35  You, sir, are my hero. Any chance you remember...      0   \n",
      "\n",
      "   severe_toxic  obscene  threat  insult  identity_hate  any_toxic  \n",
      "0             0        0       0       0              0      False  \n",
      "1             0        0       0       0              0      False  \n",
      "2             0        0       0       0              0      False  \n",
      "3             0        0       0       0              0      False  \n",
      "4             0        0       0       0              0      False  \n",
      "The rate of 'toxic' Wikipedia comments in the dataset: \n",
      "0.10167887648758234\n",
      "lowcasing complete\n",
      "punctuation removal complete\n",
      "stopwords removal complete\n",
      "common words removal complete\n",
      "Shape of HashingVectorizer X:\n",
      "(159571, 131072)\n",
      "Look at a few rows of the new quantitative features: \n",
      "   word_count  punc_count  myfeature\n",
      "0          22           0          0\n",
      "1          12           0          0\n",
      "2          18           0          0\n",
      "3          43           0          0\n",
      "4           5           0          0\n",
      "5           4           0          0\n",
      "6           4           0          0\n",
      "7           5           0          0\n",
      "8          33           0          0\n",
      "9           4           0          0\n",
      "Size of combined bag of words and new quantitative variables matrix:\n",
      "(159571, 131075)\n",
      "(159571, 131075)\n",
      "Shape of X_train and X_test:\n",
      "(127656, 131075)\n",
      "(31915, 131075)\n",
      "Shape of y_train and y_test:\n",
      "(127656,)\n",
      "(31915,)\n",
      "Shape of X_raw_train and X_raw_test:\n",
      "(127656, 12)\n",
      "(31915, 12)\n",
      "SUCCESS!\n"
     ]
    }
   ],
   "source": [
    "from sklearn.model_selection import KFold, GridSearchCV, cross_val_score, cross_validate, validation_curve\n",
    "\n",
    "# only return the preprocessing data before train_test_split\n",
    "def words_processing_cv(fn, my_random_seed):\n",
    "    # read data\n",
    "    toxic_data = pd.read_csv(fn)\n",
    "    \n",
    "        # add an indicator for any toxic, severe toxic, obscene, threat, insult, or indentity hate\n",
    "    toxic_data['any_toxic'] = (toxic_data['toxic'] + toxic_data['severe_toxic'] + toxic_data['obscene'] + toxic_data['threat'] + toxic_data['insult'] + toxic_data['identity_hate'] > 0)\n",
    "    print(\"toxic_data is:\", type(toxic_data))\n",
    "    print(\"toxic_data has\", toxic_data.shape[0], \"rows and\", toxic_data.shape[1], \"columns\", \"\\n\")\n",
    "    print(\"the data types for each of the columns in toxic_data:\")\n",
    "    print(toxic_data.dtypes, \"\\n\")\n",
    "    print(\"the first 10 rows in toxic_data:\")\n",
    "    print(toxic_data.head(5))\n",
    "    \n",
    "    print(\"The rate of 'toxic' Wikipedia comments in the dataset: \")\n",
    "    print(toxic_data['any_toxic'].mean())\n",
    "\n",
    "    # lowcasing\n",
    "    toxic_data.comment_text = toxic_data.comment_text.apply(lambda x: \" \".join(x.lower() for x in x.split()))\n",
    "    print(\"lowcasing complete\")\n",
    "    \n",
    "    # remove punctuaton\n",
    "    toxic_data.comment_text = toxic_data.comment_text.str.replace(\"[^\\w\\s]\", \"\")\n",
    "    print(\"punctuation removal complete\")\n",
    "    \n",
    "    # remove stopwords\n",
    "    stop = stopwords.words(\"english\")\n",
    "    toxic_data.comment_text = toxic_data.comment_text.apply(lambda x: \" \".join(x for x in x.split() if x not in stop))\n",
    "    print(\"stopwords removal complete\")\n",
    "    \n",
    "    # remove common words\n",
    "    word_freq = list(pd.Series(\" \".join(toxic_data.comment_text).split()).value_counts()[:20].index)\n",
    "    toxic_data.comment_text = toxic_data.comment_text.apply(lambda x: \" \".join(x for x in x.split() if x not in word_freq))\n",
    "    print(\"common words removal complete\")\n",
    "\n",
    "    \n",
    "   \n",
    "    hv = HashingVectorizer(n_features=2 ** 17, alternate_sign=False)\n",
    "    X_hv = hv.fit_transform(toxic_data.comment_text)\n",
    "    print(\"Shape of HashingVectorizer X:\")\n",
    "    print(X_hv.shape)\n",
    "    \n",
    "    # http://scikit-learn.org/stable/modules/generated/sklearn.feature_extraction.text.TfidfTransformer.html\n",
    "\n",
    "    transformer = TfidfTransformer()\n",
    "    X_tfidf = transformer.fit_transform(X_hv)\n",
    "    \n",
    "    \n",
    "    # create additional quantitative features\n",
    "    # features from Amazon.csv to add to feature set\n",
    "    toxic_data['word_count'] = toxic_data['comment_text'].str.split(' ').str.len()\n",
    "    toxic_data['punc_count'] = toxic_data['comment_text'].str.count(\"\\.\")\n",
    "    toxic_data['myfeature'] =  toxic_data['comment_text'].str.split(' ').str.len() * toxic_data['comment_text'].str.count(\"\\.\");\n",
    "    X_quant_features = toxic_data[[\"word_count\", \"punc_count\",\"myfeature\"]]\n",
    "    print(\"Look at a few rows of the new quantitative features: \")\n",
    "    print(X_quant_features.head(10))\n",
    "    \n",
    "    # Combine all quantitative features into a single sparse matrix\n",
    "    X_quant_features_csr = csr_matrix(X_quant_features)\n",
    "    X_combined = hstack([X_tfidf, X_quant_features_csr])\n",
    "    X_matrix = csr_matrix(X_combined) # convert to sparse matrix\n",
    "    print(\"Size of combined bag of words and new quantitative variables matrix:\")\n",
    "    print(X_matrix.shape)\n",
    "    \n",
    "    # Create `X`, scaled matrix of features\n",
    "    # feature scaling\n",
    "    \n",
    "    sc = StandardScaler(with_mean=False)\n",
    "    X = sc.fit_transform(X_matrix)\n",
    "    print(X.shape)\n",
    "    y = toxic_data['any_toxic']\n",
    "        \n",
    "        \n",
    "        \n",
    "        \n",
    "    \n",
    "    # Create Training and Test Sets\n",
    "    # enter an integer for the random_state parameter; any integer will work\n",
    "    \n",
    "    print(\"Shape of X_train and X_test:\")\n",
    "    print(X_train.shape)\n",
    "    print(X_test.shape)\n",
    "    print(\"Shape of y_train and y_test:\")\n",
    "    print(y_train.shape)\n",
    "    print(y_test.shape)\n",
    "    print(\"Shape of X_raw_train and X_raw_test:\")\n",
    "    print(X_raw_train.shape)\n",
    "    print(X_raw_test.shape)\n",
    "    print('SUCCESS!')\n",
    "    return(X, y)\n",
    "    \n",
    "\n",
    "# CHANGE FILE PATH and my_random_seed number (any integer other than 74 will do): \n",
    "X,y = words_processing_cv(fn='toxiccomments_train.csv', my_random_seed=100)"
   ]
  },
  {
   "cell_type": "code",
   "execution_count": 177,
   "metadata": {},
   "outputs": [
    {
     "name": "stdout",
     "output_type": "stream",
     "text": [
      "test_score: [0.71213829 0.71342383 0.69966254 0.7192846  0.71689077]\n"
     ]
    }
   ],
   "source": [
    "# cv check result\n",
    "cv = KFold(n_splits=5, shuffle=True, random_state=12345)\n",
    "print('test_score:', cross_val_score(xgb2, X, y, cv=cv, scoring='f1'))"
   ]
  },
  {
   "cell_type": "code",
   "execution_count": 178,
   "metadata": {},
   "outputs": [
    {
     "name": "stdout",
     "output_type": "stream",
     "text": [
      "Best score: 0.663\n",
      "Best parameters set:\n",
      "\tlearning_rate: 0.1\n",
      "\tmax_depth: 10\n"
     ]
    }
   ],
   "source": [
    "# grid search\n",
    "parameters = {\n",
    "    'max_depth': [5, 10],\n",
    "    'learning_rate': [0.01, 0.1]\n",
    "}\n",
    "\n",
    "\n",
    "\n",
    "gsearch = GridSearchCV(xgb2, param_grid=parameters, scoring='f1', cv=2)\n",
    "gsearch.fit(X, y)\n",
    "print(\"Best score: %0.3f\" % gsearch.best_score_)\n",
    "print(\"Best parameters set:\")\n",
    "best_parameters = gsearch.best_estimator_.get_params()\n",
    "for param_name in sorted(parameters.keys()):\n",
    "    print(\"\\t%s: %r\" % (param_name, best_parameters[param_name]))"
   ]
  },
  {
   "cell_type": "markdown",
   "metadata": {},
   "source": [
    "# Final Model -- Xgboost"
   ]
  },
  {
   "cell_type": "code",
   "execution_count": 179,
   "metadata": {},
   "outputs": [],
   "source": [
    "xgb = XGBClassifier(**{\"learning_rate\":0.1, \"max_depth\":10})\n",
    "xgb.fit(X_train, y_train)\n",
    "data_process_method = process_raw_data"
   ]
  },
  {
   "cell_type": "markdown",
   "metadata": {},
   "source": [
    "## Why we do not choose the data_process_method as the method in iteration 2? \n",
    "##### In iteration 2, we do some data cleaning: lowcasing, common words removal, but the result shows poorer performance than the original one. This is because some toxic text is spelled by upper case and wrote in inofficial way. These non-normal patterns will become features to identify them. This is the reason why data cleaning shows negative results to the classification in toxic text."
   ]
  },
  {
   "cell_type": "markdown",
   "metadata": {},
   "source": [
    "---\n",
    "\n",
    "# <span style=\"color:red\">SUBMISSION</span>\n",
    "\n",
    "---"
   ]
  },
  {
   "cell_type": "code",
   "execution_count": 180,
   "metadata": {},
   "outputs": [
    {
     "name": "stdout",
     "output_type": "stream",
     "text": [
      "toxic_data is: <class 'pandas.core.frame.DataFrame'>\n",
      "toxic_data has 153164 rows and 2 columns \n",
      "\n",
      "the data types for each of the columns in toxic_data:\n",
      "id              object\n",
      "comment_text    object\n",
      "dtype: object \n",
      "\n",
      "the first 10 rows in toxic_data:\n",
      "                 id                                       comment_text\n",
      "0  00001cee341fdb12  Yo bitch Ja Rule is more succesful then you'll...\n",
      "1  0000247867823ef7  == From RfC == \\n\\n The title is fine as it is...\n",
      "2  00013b17ad220c46  \" \\n\\n == Sources == \\n\\n * Zawe Ashton on Lap...\n",
      "3  00017563c3f7919a  :If you have a look back at the source, the in...\n",
      "4  00017695ad8997eb          I don't anonymously edit articles at all.\n",
      "Shape of HashingVectorizer X:\n",
      "(153164, 131072)\n",
      "Look at a few rows of the new quantitative features: \n",
      "   word_count  punc_count  myfeature\n",
      "0          72          10        720\n",
      "1          13           1         13\n",
      "2          16           0          0\n",
      "3          38           3        114\n",
      "4           7           1          7\n",
      "5          16           2         32\n",
      "6          31           4        124\n",
      "7           6           1          6\n",
      "8         109           9        981\n",
      "9          41           0          0\n",
      "Size of combined bag of words and new quantitative variables matrix:\n",
      "(153164, 131075)\n",
      "(153164, 131075)\n",
      "Shape of X_test for submission:\n",
      "(153164, 131075)\n",
      "SUCCESS!\n",
      "Number of rows in the submission test set (should be 153,164):  153164\n"
     ]
    }
   ],
   "source": [
    "# read in test data for submission\n",
    "# CHANGE FILE PATH and my_random_seed number (any integer other than 74 will do): \n",
    "raw_data, X_test_submission = data_process_method(fn='toxiccomments_test.csv', my_random_seed=12345, test=True)\n",
    "print(\"Number of rows in the submission test set (should be 153,164): \", X_test_submission.shape[0])"
   ]
  },
  {
   "cell_type": "markdown",
   "metadata": {},
   "source": [
    "---\n",
    "\n",
    "Choose a <span style=\"color:red\">*single*</span> model for your submission. In this code, I am choosing the xgboost model fit, which is in the `xgb` object. But you should choose the model that is performing the best for you! "
   ]
  },
  {
   "cell_type": "code",
   "execution_count": 181,
   "metadata": {},
   "outputs": [
    {
     "name": "stdout",
     "output_type": "stream",
     "text": [
      "0.15019195111122718\n"
     ]
    }
   ],
   "source": [
    "# store the id from the raw data\n",
    "my_submission = pd.DataFrame(raw_data[\"id\"])\n",
    "# concatenate predictions to the id\n",
    "my_submission[\"prediction\"] = xgb.predict(X_test_submission)\n",
    "# look at the proportion of positive predictions\n",
    "print(my_submission['prediction'].mean())"
   ]
  },
  {
   "cell_type": "code",
   "execution_count": 182,
   "metadata": {},
   "outputs": [
    {
     "data": {
      "text/html": [
       "<div>\n",
       "<style scoped>\n",
       "    .dataframe tbody tr th:only-of-type {\n",
       "        vertical-align: middle;\n",
       "    }\n",
       "\n",
       "    .dataframe tbody tr th {\n",
       "        vertical-align: top;\n",
       "    }\n",
       "\n",
       "    .dataframe thead th {\n",
       "        text-align: right;\n",
       "    }\n",
       "</style>\n",
       "<table border=\"1\" class=\"dataframe\">\n",
       "  <thead>\n",
       "    <tr style=\"text-align: right;\">\n",
       "      <th></th>\n",
       "      <th>id</th>\n",
       "      <th>comment_text</th>\n",
       "      <th>word_count</th>\n",
       "      <th>punc_count</th>\n",
       "      <th>myfeature</th>\n",
       "    </tr>\n",
       "  </thead>\n",
       "  <tbody>\n",
       "    <tr>\n",
       "      <th>0</th>\n",
       "      <td>00001cee341fdb12</td>\n",
       "      <td>Yo bitch Ja Rule is more succesful then you'll...</td>\n",
       "      <td>72</td>\n",
       "      <td>10</td>\n",
       "      <td>720</td>\n",
       "    </tr>\n",
       "    <tr>\n",
       "      <th>1</th>\n",
       "      <td>0000247867823ef7</td>\n",
       "      <td>== From RfC == \\n\\n The title is fine as it is...</td>\n",
       "      <td>13</td>\n",
       "      <td>1</td>\n",
       "      <td>13</td>\n",
       "    </tr>\n",
       "    <tr>\n",
       "      <th>2</th>\n",
       "      <td>00013b17ad220c46</td>\n",
       "      <td>\" \\n\\n == Sources == \\n\\n * Zawe Ashton on Lap...</td>\n",
       "      <td>16</td>\n",
       "      <td>0</td>\n",
       "      <td>0</td>\n",
       "    </tr>\n",
       "    <tr>\n",
       "      <th>3</th>\n",
       "      <td>00017563c3f7919a</td>\n",
       "      <td>:If you have a look back at the source, the in...</td>\n",
       "      <td>38</td>\n",
       "      <td>3</td>\n",
       "      <td>114</td>\n",
       "    </tr>\n",
       "    <tr>\n",
       "      <th>4</th>\n",
       "      <td>00017695ad8997eb</td>\n",
       "      <td>I don't anonymously edit articles at all.</td>\n",
       "      <td>7</td>\n",
       "      <td>1</td>\n",
       "      <td>7</td>\n",
       "    </tr>\n",
       "  </tbody>\n",
       "</table>\n",
       "</div>"
      ],
      "text/plain": [
       "                 id                                       comment_text  \\\n",
       "0  00001cee341fdb12  Yo bitch Ja Rule is more succesful then you'll...   \n",
       "1  0000247867823ef7  == From RfC == \\n\\n The title is fine as it is...   \n",
       "2  00013b17ad220c46  \" \\n\\n == Sources == \\n\\n * Zawe Ashton on Lap...   \n",
       "3  00017563c3f7919a  :If you have a look back at the source, the in...   \n",
       "4  00017695ad8997eb          I don't anonymously edit articles at all.   \n",
       "\n",
       "   word_count  punc_count  myfeature  \n",
       "0          72          10        720  \n",
       "1          13           1         13  \n",
       "2          16           0          0  \n",
       "3          38           3        114  \n",
       "4           7           1          7  "
      ]
     },
     "execution_count": 182,
     "metadata": {},
     "output_type": "execute_result"
    }
   ],
   "source": [
    "raw_data.head()"
   ]
  },
  {
   "cell_type": "code",
   "execution_count": 183,
   "metadata": {},
   "outputs": [
    {
     "data": {
      "text/html": [
       "<div>\n",
       "<style scoped>\n",
       "    .dataframe tbody tr th:only-of-type {\n",
       "        vertical-align: middle;\n",
       "    }\n",
       "\n",
       "    .dataframe tbody tr th {\n",
       "        vertical-align: top;\n",
       "    }\n",
       "\n",
       "    .dataframe thead th {\n",
       "        text-align: right;\n",
       "    }\n",
       "</style>\n",
       "<table border=\"1\" class=\"dataframe\">\n",
       "  <thead>\n",
       "    <tr style=\"text-align: right;\">\n",
       "      <th></th>\n",
       "      <th>id</th>\n",
       "      <th>prediction</th>\n",
       "    </tr>\n",
       "  </thead>\n",
       "  <tbody>\n",
       "    <tr>\n",
       "      <th>0</th>\n",
       "      <td>00001cee341fdb12</td>\n",
       "      <td>True</td>\n",
       "    </tr>\n",
       "    <tr>\n",
       "      <th>1</th>\n",
       "      <td>0000247867823ef7</td>\n",
       "      <td>False</td>\n",
       "    </tr>\n",
       "    <tr>\n",
       "      <th>2</th>\n",
       "      <td>00013b17ad220c46</td>\n",
       "      <td>False</td>\n",
       "    </tr>\n",
       "    <tr>\n",
       "      <th>3</th>\n",
       "      <td>00017563c3f7919a</td>\n",
       "      <td>False</td>\n",
       "    </tr>\n",
       "    <tr>\n",
       "      <th>4</th>\n",
       "      <td>00017695ad8997eb</td>\n",
       "      <td>False</td>\n",
       "    </tr>\n",
       "  </tbody>\n",
       "</table>\n",
       "</div>"
      ],
      "text/plain": [
       "                 id  prediction\n",
       "0  00001cee341fdb12        True\n",
       "1  0000247867823ef7       False\n",
       "2  00013b17ad220c46       False\n",
       "3  00017563c3f7919a       False\n",
       "4  00017695ad8997eb       False"
      ]
     },
     "execution_count": 183,
     "metadata": {},
     "output_type": "execute_result"
    }
   ],
   "source": [
    "my_submission.head()"
   ]
  },
  {
   "cell_type": "code",
   "execution_count": 184,
   "metadata": {},
   "outputs": [
    {
     "data": {
      "text/plain": [
       "(153164, 2)"
      ]
     },
     "execution_count": 184,
     "metadata": {},
     "output_type": "execute_result"
    }
   ],
   "source": [
    "my_submission.shape"
   ]
  },
  {
   "cell_type": "code",
   "execution_count": 185,
   "metadata": {},
   "outputs": [],
   "source": [
    "# export submission file as pdf\n",
    "# CHANGE FILE PATH: \n",
    "my_submission.to_csv('toxiccomments_submission.csv', index=False)"
   ]
  },
  {
   "cell_type": "markdown",
   "metadata": {},
   "source": [
    "# Submit to Canvas: 1) the CSV file that was written in the previous cell and 2) the url to the repository (GitHub or other) that contains your code and documentation"
   ]
  }
 ],
 "metadata": {
  "kernelspec": {
   "display_name": "Python 3",
   "language": "python",
   "name": "python3"
  },
  "language_info": {
   "codemirror_mode": {
    "name": "ipython",
    "version": 3
   },
   "file_extension": ".py",
   "mimetype": "text/x-python",
   "name": "python",
   "nbconvert_exporter": "python",
   "pygments_lexer": "ipython3",
   "version": "3.8.5"
  }
 },
 "nbformat": 4,
 "nbformat_minor": 2
}
