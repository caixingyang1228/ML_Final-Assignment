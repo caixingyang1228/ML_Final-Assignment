{
 "cells": [
  {
   "cell_type": "code",
   "execution_count": 1,
   "metadata": {},
   "outputs": [],
   "source": [
    "import pandas as pd\n",
    "import numpy as np\n",
    "from sklearn.feature_extraction.text import TfidfTransformer, HashingVectorizer, CountVectorizer\n",
    "from sklearn.tree import DecisionTreeRegressor\n",
    "from sklearn.model_selection import train_test_split\n",
    "from sklearn.metrics import explained_variance_score,mean_absolute_error,mean_squared_error,median_absolute_error,r2_score\n",
    "from sklearn.ensemble import GradientBoostingRegressor\n",
    "import xgboost as xgb\n",
    "from sklearn.svm import SVR, SVC\n",
    "from sklearn.linear_model import Lasso,LassoCV,LassoLarsCV, LinearRegression, Ridge, ElasticNet\n",
    "import matplotlib.pyplot as plt\n",
    "from matplotlib.pyplot import MultipleLocator\n",
    "font2 = {'size': 20,'weight': 'normal'} # This code is so as to adjust the size of character among the axis\n",
    "from sklearn.model_selection import GridSearchCV\n",
    "\n",
    "data = pd.read_csv(\"toxiccomments_sample_submission.csv\")\n",
    "features = data[\"id\"]\n",
    "label = data[\"prediction\"]"
   ]
  },
  {
   "cell_type": "code",
   "execution_count": 2,
   "metadata": {},
   "outputs": [],
   "source": [
    "has = HashingVectorizer()\n",
    "features = has.fit_transform(features)\n",
    "\n",
    "X_train, X_test, y_train, y_test = train_test_split(features, label, test_size=0.5, random_state=0)\n",
    "\n",
    "lasso = Lasso()       #Revoke the model Lasso\n",
    "ridge = Ridge()\n"
   ]
  },
  {
   "cell_type": "code",
   "execution_count": 4,
   "metadata": {},
   "outputs": [
    {
     "name": "stdout",
     "output_type": "stream",
     "text": [
      "Lass of GS.best_params_ =  {'alpha': 0.02}\n"
     ]
    }
   ],
   "source": [
    "from sklearn.model_selection import GridSearchCV\n",
    "parameters = {\n",
    "             \"alpha\":[0.02,0.03,0.04, 2,3]\n",
    "#              ,'min_impurity_decrease':[*np.linspace(0,0.5,50)]\n",
    "             }\n",
    "# GridSearchCV同时满足了 fit score 交叉验证三种功能\n",
    "GS = GridSearchCV(lasso,parameters,cv=2)\n",
    "GS = GS.fit(X_train,y_train)\n",
    "# 从输入的参数和参数取值的列表中，返回最佳组合\n",
    "print(\"Lass of GS.best_params_ = \", GS.best_params_)"
   ]
  },
  {
   "cell_type": "code",
   "execution_count": 5,
   "metadata": {},
   "outputs": [
    {
     "name": "stdout",
     "output_type": "stream",
     "text": [
      "ridge.best_params_ =  {'alpha': 3}\n"
     ]
    }
   ],
   "source": [
    "parameters2 = {\n",
    "             \"alpha\":[0.1,1,2,3]\n",
    "#              ,'min_impurity_decrease':[*np.linspace(0,0.5,50)]\n",
    "             }\n",
    "GS = GridSearchCV(ridge,parameters2,cv=2)\n",
    "GS = GS.fit(X_train,y_train)\n",
    "# 从输入的参数和参数取值的列表中，返回最佳组合\n",
    "print(\"ridge.best_params_ = \", GS.best_params_)"
   ]
  },
  {
   "cell_type": "code",
   "execution_count": 3,
   "metadata": {},
   "outputs": [
    {
     "name": "stdout",
     "output_type": "stream",
     "text": [
      "D_tree.best_params_ =  {'max_depth': 2}\n"
     ]
    }
   ],
   "source": [
    "from sklearn.tree import DecisionTreeRegressor\n",
    "parameters3 = {\n",
    "             \"max_depth\":[1,2,3,4,5]}\n",
    "D_tree=DecisionTreeRegressor()\n",
    "GS = GridSearchCV(D_tree,parameters3,cv=2)\n",
    "GS = GS.fit(X_train,y_train)\n",
    "print(\"D_tree.best_params_ = \", GS.best_params_)"
   ]
  },
  {
   "cell_type": "code",
   "execution_count": 6,
   "metadata": {},
   "outputs": [
    {
     "name": "stdout",
     "output_type": "stream",
     "text": [
      "ridge regression model mean absolute error： 0.4995965243394849\n",
      "ridge regression model mean squared error： 0.25089637609166926\n",
      "ridge regression model median absolute error： 0.484923902998308\n",
      "ridge regression model explained variance score： -0.00424528119850498\n",
      "ridge regression model r2 score： -0.004260889707079052\n"
     ]
    },
    {
     "data": {
      "image/png": "[encoded data removed]",
      "text/plain": [
       "<Figure size 432x288 with 1 Axes>"
      ]
     },
     "metadata": {
      "needs_background": "light"
     },
     "output_type": "display_data"
    }
   ],
   "source": [
    "ridge = Ridge(alpha=3.0, fit_intercept=True, normalize=False,copy_X=True, max_iter=None, tol=1e-3, solver=\"auto\",\n",
    "                         random_state=None)\n",
    "ridge.fit(X_train, y_train)             #Fit the train dataset\n",
    "y_predict = ridge.predict(X_test)       #Predict the result by utilizing the Ridge model\n",
    "print('ridge regression model mean absolute error：',mean_absolute_error(y_test,y_predict))\n",
    "print('ridge regression model mean squared error：',mean_squared_error(y_test,y_predict))\n",
    "print('ridge regression model median absolute error：',median_absolute_error(y_test,y_predict))\n",
    "print('ridge regression model explained variance score：',explained_variance_score(y_test,y_predict))\n",
    "print('ridge regression model r2 score：',r2_score(y_test,y_predict))\n",
    "plt.figure()\n",
    "plt.scatter( range(len(y_test)), y_test, color = \"red\", label = \"Real\", linewidth = 4)          #Plot the real data\n",
    "plt.plot(range(len(y_test)), y_predict, color = \"skyblue\", label = \"Predicted\", linewidth = 4)  #Plot the predicted data\n",
    "plt.title(\"Ridge Model\", fontdict=font2)\n",
    "plt.xlabel(\"Order\", fontdict= font2)\n",
    "plt.ylabel(\"predicted\", fontdict= font2)\n",
    "plt.legend()\n",
    "plt.show()"
   ]
  },
  {
   "cell_type": "code",
   "execution_count": 7,
   "metadata": {},
   "outputs": [
    {
     "name": "stdout",
     "output_type": "stream",
     "text": [
      "Lasso regression model mean absolute error： 0.4996139614397029\n",
      "Lasso regression model mean squared error ： 0.2498355545709912\n",
      "Lasso regression model median absolute error： 0.48511399545585127\n",
      "Lasso regression model explained variance score： -2.220446049250313e-16\n",
      "Lasso regression model r2 score： -1.474800996947856e-05\n"
     ]
    },
    {
     "data": {
      "image/png": "[encoded data removed]",
      "text/plain": [
       "<Figure size 432x288 with 1 Axes>"
      ]
     },
     "metadata": {
      "needs_background": "light"
     },
     "output_type": "display_data"
    }
   ],
   "source": [
    "lasso = Lasso(alpha=0.02, normalize=True)       #Revoke the model Lasso\n",
    "results_lasso = lasso.fit(X_train, y_train)     #Fit the train dataset\n",
    "y_predict = lasso.predict(X_test)               #Predict the result by utilizing the Lasso model\n",
    "\n",
    "print('Lasso regression model mean absolute error：',mean_absolute_error(y_test,y_predict))\n",
    "print('Lasso regression model mean squared error ：',mean_squared_error(y_test,y_predict))\n",
    "print('Lasso regression model median absolute error：',median_absolute_error(y_test,y_predict))\n",
    "print('Lasso regression model explained variance score：',explained_variance_score(y_test,y_predict))\n",
    "print('Lasso regression model r2 score：',r2_score(y_test,y_predict))\n",
    "plt.figure()        #Create a new figure\n",
    "plt.scatter( range(len(y_test)), y_test, color = \"orange\", label = \"Real\", linewidth = 4)   #Plot the real data\n",
    "plt.plot(range(len(y_test)), y_predict, color = \"blue\", label = \"Predicted\", linewidth = 4) #Plot the predicted data\n",
    "plt.title(\"Lasso Model\", fontdict=font2)    #Set the model title name\n",
    "plt.xlabel(\"Order\", fontdict= font2)\n",
    "plt.ylabel(\"predicted\", fontdict= font2)\n",
    "plt.legend()\n",
    "plt.show()"
   ]
  },
  {
   "cell_type": "code",
   "execution_count": 9,
   "metadata": {},
   "outputs": [
    {
     "name": "stdout",
     "output_type": "stream",
     "text": [
      "D_tree regression model mean absolute error： 0.4996129152216717\n",
      "D_tree regression model mean squared error ： 0.2498357110767579\n",
      "D_tree regression model median absolute error： 0.4850736523192645\n",
      "D_tree regression model explained variance score： -2.220446049250313e-16\n",
      "D_tree regression model r2 score： -1.5374454332528487e-05\n",
      "\n",
      "\n"
     ]
    },
    {
     "data": {
      "image/png": "[encoded data removed]",
      "text/plain": [
       "<Figure size 432x288 with 1 Axes>"
      ]
     },
     "metadata": {
      "needs_background": "light"
     },
     "output_type": "display_data"
    }
   ],
   "source": [
    "X_train, X_test, y_train, y_test = train_test_split(features, label, test_size=0.5, random_state=0)\n",
    "D_tree=DecisionTreeRegressor(max_depth=2)\n",
    "D_tree.fit(X_train,y_train)\n",
    "y_predict = D_tree.predict(X_test) #Predict the result by utilizing the SVC model\n",
    "\n",
    "print('D_tree regression model mean absolute error：',mean_absolute_error(y_test,y_predict))  #越小越好\n",
    "print('D_tree regression model mean squared error ：',mean_squared_error(y_test,y_predict))   #越小越好\n",
    "print('D_tree regression model median absolute error：',median_absolute_error(y_test,y_predict))  #越小越好\n",
    "print('D_tree regression model explained variance score：',explained_variance_score(y_test,y_predict))    #越大越好\n",
    "print('D_tree regression model r2 score：',r2_score(y_test,y_predict))     #越大越好                               #越大越好\n",
    "print(\"\\n\")\n",
    "\n",
    "plt.figure()        #Create a new figure\n",
    "plt.scatter( range(len(y_test)), y_test, color = \"orange\", label = \"Real\", linewidth = 4)   #Plot the real data\n",
    "plt.plot(range(len(y_test)), y_predict, color = \"green\", label = \"Predicted\", linewidth = 4) #Plot the predicted data\n",
    "plt.title(\"D_tree Model\", fontdict=font2)    #Set the model title name\n",
    "plt.xlabel(\"Order\", fontdict= font2)\n",
    "plt.ylabel(\"predicted\", fontdict= font2)\n",
    "plt.legend()\n",
    "plt.show()"
   ]
  },
  {
   "cell_type": "code",
   "execution_count": null,
   "metadata": {},
   "outputs": [],
   "source": []
  }
 ],
 "metadata": {
  "kernelspec": {
   "display_name": "Python 3",
   "language": "python",
   "name": "python3"
  },
  "language_info": {
   "codemirror_mode": {
    "name": "ipython",
    "version": 3
   },
   "file_extension": ".py",
   "mimetype": "text/x-python",
   "name": "python",
   "nbconvert_exporter": "python",
   "pygments_lexer": "ipython3",
   "version": "3.7.4"
  }
 },
 "nbformat": 4,
 "nbformat_minor": 2
}
