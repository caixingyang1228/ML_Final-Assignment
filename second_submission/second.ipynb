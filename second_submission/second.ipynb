{
 "cells": [
  {
   "cell_type": "code",
   "execution_count": 2,
   "metadata": {},
   "outputs": [],
   "source": [
    "import pandas as pd\n",
    "import numpy as np\n",
    "from sklearn.feature_extraction.text import TfidfTransformer, HashingVectorizer, CountVectorizer\n",
    "from sklearn.tree import DecisionTreeRegressor\n",
    "from sklearn.model_selection import train_test_split\n",
    "from sklearn.metrics import explained_variance_score,mean_absolute_error,mean_squared_error,median_absolute_error,r2_score\n",
    "from sklearn.ensemble import GradientBoostingRegressor\n",
    "# import xgboost as xgb\n",
    "from sklearn.svm import SVR, SVC\n",
    "from sklearn.linear_model import Lasso,LassoCV,LassoLarsCV, LinearRegression, Ridge, ElasticNet, LogisticRegression\n",
    "import matplotlib.pyplot as plt\n",
    "from matplotlib.pyplot import MultipleLocator\n",
    "from sklearn.metrics import precision_score, accuracy_score, confusion_matrix, recall_score, f1_score\n",
    "\n",
    "font2 = {\"size\":20, \"weight\":\"normal\"}\n",
    "\n",
    "data = pd.read_csv(\"toxiccomments_train.csv\")\n",
    "data = data.dropna()\n",
    "\n",
    "ID = data[\"id\"]\n",
    "identity_hate = data[\"identity_hate\"]\n",
    "comment_text = data['comment_text']\n",
    "has = HashingVectorizer().fit(comment_text)\n",
    "features = has.fit_transform(comment_text)\n",
    "\n",
    "\n",
    "\n",
    "label = identity_hate\n",
    "\n",
    "\n",
    "\n",
    "X_train, X_test, y_train, y_test = train_test_split(features, label, test_size=0.5, random_state=0)"
   ]
  },
  {
   "cell_type": "code",
   "execution_count": 3,
   "metadata": {},
   "outputs": [
    {
     "name": "stderr",
     "output_type": "stream",
     "text": [
      "E:\\Anaconda\\lib\\site-packages\\sklearn\\svm\\base.py:193: FutureWarning: The default value of gamma will change from 'auto' to 'scale' in version 0.22 to account better for unscaled features. Set gamma explicitly to 'auto' or 'scale' to avoid this warning.\n",
      "  \"avoid this warning.\", FutureWarning)\n"
     ]
    },
    {
     "name": "stdout",
     "output_type": "stream",
     "text": [
      "SVC precision score： 0.9908379916276039\n",
      "SVC Confusion Matrix： [[79055     0]\n",
      " [  731     0]]\n",
      "SVC accuracy score： 0.9908379916276039\n",
      "SVC recall score： 0.9908379916276039\n",
      "SVC f1 score： 0.49769895681845366\n"
     ]
    },
    {
     "name": "stderr",
     "output_type": "stream",
     "text": [
      "E:\\Anaconda\\lib\\site-packages\\sklearn\\metrics\\classification.py:1437: UndefinedMetricWarning: F-score is ill-defined and being set to 0.0 in labels with no predicted samples.\n",
      "  'precision', 'predicted', average, warn_for)\n"
     ]
    }
   ],
   "source": [
    "#本次改用分类模型，进行对比，观测模型的精准率，召回率，f1得分等，根据观测结果，观测采用回归模型较好\n",
    "#采用支持向量机分类模型\n",
    "svc = SVC()                 #Revoke the model SVC     \n",
    "svc.fit(X_train, y_train)   #Fit the train dataset\n",
    "y_predict = svc.predict(X_test) #Predict the result by utilizing the SVC model\n",
    "print('SVC precision score：',precision_score(y_test,y_predict, average='micro'))\n",
    "print('SVC Confusion Matrix：',confusion_matrix(y_test,y_predict))\n",
    "print('SVC accuracy score：',accuracy_score(y_test,y_predict))\n",
    "print('SVC recall score：',recall_score(y_test,y_predict,  average=\"micro\", sample_weight=None))\n",
    "print('SVC f1 score：',f1_score(y_test,y_predict, pos_label=1,average = \"macro\"))\n",
    "\n"
   ]
  },
  {
   "cell_type": "code",
   "execution_count": 4,
   "metadata": {},
   "outputs": [
    {
     "name": "stderr",
     "output_type": "stream",
     "text": [
      "E:\\Anaconda\\lib\\site-packages\\sklearn\\linear_model\\logistic.py:432: FutureWarning: Default solver will be changed to 'lbfgs' in 0.22. Specify a solver to silence this warning.\n",
      "  FutureWarning)\n"
     ]
    },
    {
     "name": "stdout",
     "output_type": "stream",
     "text": [
      "Logistic_regress precision score： 0.9855363096282556\n",
      "Logistic_regress Confusion Matrix： [[78424   631]\n",
      " [  523   208]]\n",
      "Logistic_regress accuracy score： 0.9855363096282556\n",
      "Logistic_regress recall score： 0.9855363096282556\n",
      "Logistic_regress f1 score： 0.628832223924925\n"
     ]
    }
   ],
   "source": [
    "from sklearn.linear_model import  LogisticRegression\n",
    "#采用逻辑回归分类模型\n",
    "Logistic_regress = LogisticRegression(C=1e5)\n",
    "Logistic_regress.fit(X_train, y_train)\n",
    "# 5. 预测\n",
    "y_predict = Logistic_regress.predict(X_test)\n",
    "print('Logistic_regress precision score：',precision_score(y_test,y_predict, average='micro'))\n",
    "print('Logistic_regress Confusion Matrix：',confusion_matrix(y_test,y_predict))\n",
    "print('Logistic_regress accuracy score：',accuracy_score(y_test,y_predict))\n",
    "print('Logistic_regress recall score：',recall_score(y_test,y_predict,  average=\"micro\", sample_weight=None))\n",
    "print('Logistic_regress f1 score：',f1_score(y_test,y_predict, pos_label=1,average = \"macro\"))"
   ]
  },
  {
   "cell_type": "code",
   "execution_count": 5,
   "metadata": {},
   "outputs": [
    {
     "name": "stdout",
     "output_type": "stream",
     "text": [
      "RandomForest precision score： 0.9908379916276039\n",
      "RandomForest Confusion Matrix： [[79055     0]\n",
      " [  731     0]]\n",
      "RandomForest accuracy score： 0.9908379916276039\n",
      "RandomForest recall score： 0.9908379916276039\n",
      "RandomForest f1 score： 0.49769895681845366\n"
     ]
    },
    {
     "name": "stderr",
     "output_type": "stream",
     "text": [
      "E:\\Anaconda\\lib\\site-packages\\sklearn\\metrics\\classification.py:1437: UndefinedMetricWarning: F-score is ill-defined and being set to 0.0 in labels with no predicted samples.\n",
      "  'precision', 'predicted', average, warn_for)\n"
     ]
    }
   ],
   "source": [
    "from sklearn.ensemble import RandomForestClassifier ##\n",
    "# 随机森林分类模型\n",
    "RandomForest = RandomForestClassifier(n_estimators=150,min_samples_leaf=2,max_depth=6,oob_score=True)\n",
    "RandomForest.fit(X_train, y_train)\n",
    "y_predict = RandomForest.predict(X_test)\n",
    "print('RandomForest precision score：',precision_score(y_test,y_predict, average='micro'))\n",
    "print('RandomForest Confusion Matrix：',confusion_matrix(y_test,y_predict))\n",
    "print('RandomForest accuracy score：',accuracy_score(y_test,y_predict))\n",
    "print('RandomForest recall score：',recall_score(y_test,y_predict,  average=\"micro\", sample_weight=None))\n",
    "print('RandomForest f1 score：',f1_score(y_test,y_predict, pos_label=1,average = \"macro\"))"
   ]
  },
  {
   "cell_type": "code",
   "execution_count": 6,
   "metadata": {},
   "outputs": [
    {
     "data": {
      "image/png": "[encoded data removed]",
      "text/plain": [
       "<Figure size 432x288 with 1 Axes>"
      ]
     },
     "metadata": {
      "needs_background": "light"
     },
     "output_type": "display_data"
    }
   ],
   "source": [
    "randomforest_predict = RandomForest.predict(X_test)\n",
    "RandomForest_store = [precision_score(y_test,randomforest_predict, average='micro'),accuracy_score(y_test,randomforest_predict) ,recall_score(y_test,randomforest_predict,  average=\"micro\", sample_weight=None)\n",
    "                        ,f1_score(y_test,randomforest_predict, pos_label=1,average = \"macro\")     ]\n",
    "x = [\"precision_score\", \"accuracy_score\", \"recall_score\",\"f1_score\" ]\n",
    "plt.plot(x, RandomForest_store, color = \"red\", label =\"RandomForest\" )\n",
    "\n",
    "\n",
    "Logistic_regress_predict = Logistic_regress.predict(X_test)\n",
    "Logistic_regress_store = [precision_score(y_test,Logistic_regress_predict, average='micro'),accuracy_score(y_test,Logistic_regress_predict) ,recall_score(y_test,Logistic_regress_predict,  average=\"micro\", sample_weight=None)\n",
    "                        ,f1_score(y_test,Logistic_regress_predict, pos_label=1,average = \"macro\")]\n",
    "x = [\"precision_score\", \"accuracy_score\", \"recall_score\",\"f1_score\" ]\n",
    "plt.plot(x, Logistic_regress_store, color = \"blue\", label =\"Logistic_regress\" )\n",
    "\n",
    "\n",
    "\n",
    "plt.legend()\n",
    "plt.show()\n"
   ]
  },
  {
   "cell_type": "code",
   "execution_count": 7,
   "metadata": {},
   "outputs": [
    {
     "data": {
      "image/png": "[encoded data removed]",
      "text/plain": [
       "<Figure size 432x288 with 1 Axes>"
      ]
     },
     "metadata": {
      "needs_background": "light"
     },
     "output_type": "display_data"
    }
   ],
   "source": [
    "svc_predict = svc.predict(X_test)\n",
    "svc_store = [precision_score(y_test,svc_predict, average='micro'),accuracy_score(y_test,svc_predict) ,recall_score(y_test,svc_predict,  average=\"micro\", sample_weight=None)\n",
    "                        ,f1_score(y_test,svc_predict, pos_label=1,average = \"macro\")]\n",
    "x = [\"precision_score\", \"accuracy_score\", \"recall_score\",\"f1_score\" ]\n",
    "plt.plot(x, svc_store, color = \"green\", label =\"Svc_regress\" )\n",
    "plt.legend()\n",
    "plt.show()"
   ]
  },
  {
   "cell_type": "code",
   "execution_count": 9,
   "metadata": {},
   "outputs": [
    {
     "name": "stderr",
     "output_type": "stream",
     "text": [
      "E:\\Anaconda\\lib\\site-packages\\ipykernel_launcher.py:9: SettingWithCopyWarning: \n",
      "A value is trying to be set on a copy of a slice from a DataFrame\n",
      "\n",
      "See the caveats in the documentation: http://pandas.pydata.org/pandas-docs/stable/user_guide/indexing.html#returning-a-view-versus-a-copy\n",
      "  if __name__ == '__main__':\n"
     ]
    },
    {
     "name": "stdout",
     "output_type": "stream",
     "text": [
      "ID_csv =                        id prediction\n",
      "0       0000997932d777bf      False\n",
      "1       000103f0d9cfb60f      False\n",
      "2       000113f07ec002fd      False\n",
      "3       0001b41b1c6bb37e      False\n",
      "4       0001d958c54c6e35      False\n",
      "...                  ...        ...\n",
      "159566  ffe987279560d7ff      False\n",
      "159567  ffea4adeee384e90      False\n",
      "159568  ffee36eab5c267c9      False\n",
      "159569  fff125370e4aaaf3      False\n",
      "159570  fff46fc426af1f9a      False\n",
      "\n",
      "[159571 rows x 2 columns]\n"
     ]
    }
   ],
   "source": [
    "ID_data = data['id']\n",
    "fea_csv = HashingVectorizer().fit(data['comment_text'])\n",
    "fea_csv = fea_csv.fit_transform(data['comment_text'])\n",
    "ID_csv = pd.DataFrame({\"id\":ID_data, \"prediction\":svc.predict(fea_csv)})\n",
    "for i in range(len(ID_csv)):\n",
    "    if ID_csv[\"prediction\"][i]>0.5:\n",
    "        ID_csv[\"prediction\"][i] = True\n",
    "    else:\n",
    "        ID_csv[\"prediction\"][i]  = False\n",
    "print(\"ID_csv = \", ID_csv)\n",
    "ID_csv.to_csv(\"toxiccomments_submission2.csv\")"
   ]
  },
  {
   "cell_type": "code",
   "execution_count": null,
   "metadata": {},
   "outputs": [],
   "source": []
  },
  {
   "cell_type": "code",
   "execution_count": null,
   "metadata": {},
   "outputs": [],
   "source": []
  }
 ],
 "metadata": {
  "kernelspec": {
   "display_name": "Python 3",
   "language": "python",
   "name": "python3"
  },
  "language_info": {
   "codemirror_mode": {
    "name": "ipython",
    "version": 3
   },
   "file_extension": ".py",
   "mimetype": "text/x-python",
   "name": "python",
   "nbconvert_exporter": "python",
   "pygments_lexer": "ipython3",
   "version": "3.7.4"
  }
 },
 "nbformat": 4,
 "nbformat_minor": 2
}
